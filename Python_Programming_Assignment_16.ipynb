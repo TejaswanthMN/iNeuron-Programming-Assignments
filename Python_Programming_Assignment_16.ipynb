{
  "nbformat": 4,
  "nbformat_minor": 0,
  "metadata": {
    "colab": {
      "provenance": []
    },
    "kernelspec": {
      "name": "python3",
      "display_name": "Python 3"
    },
    "language_info": {
      "name": "python"
    }
  },
  "cells": [
    {
      "cell_type": "markdown",
      "source": [
        "### Python_Programming_Assignment_16"
      ],
      "metadata": {
        "id": "hlKKo_ebpV7X"
      }
    },
    {
      "cell_type": "markdown",
      "source": [
        "#### Question1. Write a function that stutters a word as if someone is struggling to read it. The\n",
        "first two letters are repeated twice with an ellipsis ... and space after each, and then the\n",
        "word is pronounced with a question mark ?.\n",
        "Examples\n",
        "stutter(&quot;incredible&quot;) ➞ &quot;in... in... incredible?&quot;\n",
        "stutter(&quot;enthusiastic&quot;) ➞ &quot;en... en... enthusiastic?&quot;\n",
        "stutter(&quot;outstanding&quot;) ➞ &quot;ou... ou... outstanding?&quot;\n",
        "\n",
        "Hint :- Assume all input is in lower case and at least two characters long."
      ],
      "metadata": {
        "id": "widIA0Arp226"
      }
    },
    {
      "cell_type": "code",
      "execution_count": 1,
      "metadata": {
        "colab": {
          "base_uri": "https://localhost:8080/"
        },
        "id": "4Pf1Si2rpRzm",
        "outputId": "864bcfe9-e9c2-4f8c-e617-cb310e678581"
      },
      "outputs": [
        {
          "output_type": "stream",
          "name": "stdout",
          "text": [
            "in... in... incredible\n"
          ]
        }
      ],
      "source": [
        "shutter = \"incredible\"\n",
        "a = \"... \"\n",
        "b = shutter[0:2]\n",
        "print(b + a + b + a + shutter)"
      ]
    },
    {
      "cell_type": "markdown",
      "source": [
        "#### Question 2.Create a function that takes an angle in radians and returns the corresponding\n",
        "angle in degrees rounded to one decimal place.\n",
        "Examples\n",
        "radians_to_degrees(1) ➞ 57.3\n",
        "radians_to_degrees(20) ➞ 1145.9\n",
        "radians_to_degrees(50) ➞ 2864.8"
      ],
      "metadata": {
        "id": "PMQ4BJLrqCZi"
      }
    },
    {
      "cell_type": "code",
      "source": [
        "def angle_to_radian(i):\n",
        "  return i*57.3\n",
        "\n",
        "angle_to_radian(15)"
      ],
      "metadata": {
        "colab": {
          "base_uri": "https://localhost:8080/"
        },
        "id": "ZRUHidEDqEpn",
        "outputId": "228162aa-b562-4bd3-ac36-ff6953ace7fa"
      },
      "execution_count": 2,
      "outputs": [
        {
          "output_type": "execute_result",
          "data": {
            "text/plain": [
              "859.5"
            ]
          },
          "metadata": {},
          "execution_count": 2
        }
      ]
    },
    {
      "cell_type": "markdown",
      "source": [
        "#### Question 3. In this challenge, establish if a given integer num is a Curzon number. If 1 plus\n",
        "2 elevated to num is exactly divisible by 1 plus 2 multiplied by num, then num is a Curzon\n",
        "number.\n",
        "Given a non-negative integer num, implement a function that returns True if num is a Curzon\n",
        "number, or False otherwise.\n",
        "Examples\n",
        "is_curzon(5) ➞ True\n",
        " 2 ** 5 + 1 = 33\n",
        " 2 * 5 + 1 = 11\n",
        " 33 is a multiple of 11\n",
        "is_curzon(10) ➞ False\n",
        " 2 ** 10 + 1 = 1025\n",
        " 2 * 10 + 1 = 21\n",
        " 1025 is not a multiple of 21\n",
        "is_curzon(14) ➞ True\n",
        " 2 ** 14 + 1 = 16385\n",
        " 2 * 14 + 1 = 29\n",
        " 16385 is a multiple of 29"
      ],
      "metadata": {
        "id": "_ONLwacJqFFa"
      }
    },
    {
      "cell_type": "code",
      "source": [
        "def curzon(n):\n",
        "  return (((pow(2,n))+1) + ((2*n)+1))%2 == 0\n",
        "\n",
        "curzon(5)"
      ],
      "metadata": {
        "colab": {
          "base_uri": "https://localhost:8080/"
        },
        "id": "QTuZOXGyqHyy",
        "outputId": "e6992fec-737c-4920-f483-594c7bd836b5"
      },
      "execution_count": 3,
      "outputs": [
        {
          "output_type": "execute_result",
          "data": {
            "text/plain": [
              "True"
            ]
          },
          "metadata": {},
          "execution_count": 3
        }
      ]
    },
    {
      "cell_type": "markdown",
      "source": [
        "#### Question 4.Given the side length x find the area of a hexagon.\n",
        "\n",
        "Examples\n",
        "area_of_hexagon(1) ➞ 2.6\n",
        "area_of_hexagon(2) ➞ 10.4\n",
        "area_of_hexagon(3) ➞ 23.4"
      ],
      "metadata": {
        "id": "btlCBScBqIIS"
      }
    },
    {
      "cell_type": "code",
      "source": [
        "import math\n",
        "\n",
        "def area_of_hexagon(n):\n",
        "  return n*n*3*math.sqrt(3)/2\n",
        "\n",
        "round(area_of_hexagon(2),1)"
      ],
      "metadata": {
        "colab": {
          "base_uri": "https://localhost:8080/"
        },
        "id": "CCAYKOWdqJ79",
        "outputId": "6ba89c06-c7f1-4a5b-9004-da516873d920"
      },
      "execution_count": 4,
      "outputs": [
        {
          "output_type": "execute_result",
          "data": {
            "text/plain": [
              "10.4"
            ]
          },
          "metadata": {},
          "execution_count": 4
        }
      ]
    },
    {
      "cell_type": "markdown",
      "source": [
        "#### Question 5. Create a function that returns a base-2 (binary) representation of a base-10\n",
        "(decimal) string number. To convert is simple: ((2) means base-2 and (10) means base-10)\n",
        "010101001(2) = 1 + 8 + 32 + 128.\n",
        "Going from right to left, the value of the most right bit is 1, now from that every bit to the left\n",
        "will be x2 the value, value of an 8 bit binary numbers are (256, 128, 64, 32, 16, 8, 4, 2, 1).\n",
        "Examples\n",
        "binary(1) ➞ &quot;1&quot;\n",
        " 1*1 = 1\n",
        "binary(5) ➞ &quot;101&quot;\n",
        " 1*1 + 1*4 = 5\n",
        "binary(10) ➞ &quot;1010&quot;\n",
        " 1*2 + 1*8 = 10"
      ],
      "metadata": {
        "id": "U4e-JhnEqJdr"
      }
    },
    {
      "cell_type": "code",
      "source": [
        "def binary_decimal(n):\n",
        "    return int(n,2)\n",
        "\n",
        "binary_decimal(\"1010\")"
      ],
      "metadata": {
        "colab": {
          "base_uri": "https://localhost:8080/"
        },
        "id": "gYAROLHtqLiU",
        "outputId": "aec53956-1bb7-44a9-be7c-f27a7052b496"
      },
      "execution_count": 5,
      "outputs": [
        {
          "output_type": "execute_result",
          "data": {
            "text/plain": [
              "10"
            ]
          },
          "metadata": {},
          "execution_count": 5
        }
      ]
    }
  ]
}