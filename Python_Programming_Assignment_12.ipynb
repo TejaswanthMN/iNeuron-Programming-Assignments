{
  "nbformat": 4,
  "nbformat_minor": 0,
  "metadata": {
    "colab": {
      "provenance": []
    },
    "kernelspec": {
      "name": "python3",
      "display_name": "Python 3"
    },
    "language_info": {
      "name": "python"
    }
  },
  "cells": [
    {
      "cell_type": "markdown",
      "source": [
        "### Python_Programming_Assignment_12"
      ],
      "metadata": {
        "id": "KrMaBYXyaOB7"
      }
    },
    {
      "cell_type": "markdown",
      "source": [
        "#### 1. Write a Python program to Extract Unique values dictionary values?"
      ],
      "metadata": {
        "id": "SDO_rl4waRMr"
      }
    },
    {
      "cell_type": "code",
      "execution_count": 1,
      "metadata": {
        "colab": {
          "base_uri": "https://localhost:8080/"
        },
        "id": "Tu-VrCn7aLAi",
        "outputId": "bf7918d3-e206-423d-ddcd-b8d678a2aa1e"
      },
      "outputs": [
        {
          "output_type": "execute_result",
          "data": {
            "text/plain": [
              "[1, 2, 5, 6, 7, 8, 10, 11, 12]"
            ]
          },
          "metadata": {},
          "execution_count": 1
        }
      ],
      "source": [
        "test_dict = {'a': [5, 6, 7, 8],\n",
        "             'b': [10, 11, 7, 5],\n",
        "             'c': [6, 12, 10, 8],\n",
        "             'd': [1, 2, 5]}\n",
        "\n",
        "values_list = []\n",
        "for i in test_dict.values():\n",
        "  values_list.extend(i)\n",
        "\n",
        "sorted(list(set(values_list)))"
      ]
    },
    {
      "cell_type": "markdown",
      "source": [
        "#### 2. Write a Python program to find the sum of all items in a dictionary?"
      ],
      "metadata": {
        "id": "0Xf8wBijahGl"
      }
    },
    {
      "cell_type": "code",
      "source": [
        "dict1 = {\"a\": 100, \"b\":200, \"c\":300}\n",
        "s = 0\n",
        "for i in dict1.values():\n",
        "  s = s+i\n",
        "\n",
        "print(f\"Sum of the items in the dictionary {dict1} is {s}\")"
      ],
      "metadata": {
        "colab": {
          "base_uri": "https://localhost:8080/"
        },
        "id": "gCGyshxDawtH",
        "outputId": "bbf1d455-25c1-4cb2-f0dc-87d0804bcb76"
      },
      "execution_count": 2,
      "outputs": [
        {
          "output_type": "stream",
          "name": "stdout",
          "text": [
            "Sum of the items in the dictionary {'a': 100, 'b': 200, 'c': 300} is 600\n"
          ]
        }
      ]
    },
    {
      "cell_type": "markdown",
      "source": [
        "#### 3. Write a Python program to Merging two Dictionaries?"
      ],
      "metadata": {
        "id": "kjVlS4RQaiIW"
      }
    },
    {
      "cell_type": "code",
      "source": [
        "dict1 = {'a': 10, 'b': 8}\n",
        "dict2 = {'d': 6, 'c': 4}\n",
        "\n",
        "dict2.update(dict1)\n",
        "dict2"
      ],
      "metadata": {
        "id": "7jSEYinbaz6B",
        "colab": {
          "base_uri": "https://localhost:8080/"
        },
        "outputId": "86279df9-177e-4280-e145-9e02e054e56a"
      },
      "execution_count": 3,
      "outputs": [
        {
          "output_type": "execute_result",
          "data": {
            "text/plain": [
              "{'d': 6, 'c': 4, 'a': 10, 'b': 8}"
            ]
          },
          "metadata": {},
          "execution_count": 3
        }
      ]
    },
    {
      "cell_type": "markdown",
      "source": [
        "#### 4. Write a Python program to convert key-values list to flat dictionary?"
      ],
      "metadata": {
        "id": "P6Yl8_bAajNe"
      }
    },
    {
      "cell_type": "code",
      "source": [
        "test_dict = {'month' : [1, 2, 3], 'name' : ['Jan', 'Feb', 'March']}\n",
        "\n",
        "x=list(test_dict.values())\n",
        "a=x[0]\n",
        "b=x[1]\n",
        "\n",
        "flat_dict = {}\n",
        "for i in range(len(a)):\n",
        "  flat_dict[a[i]] = b[i]\n",
        "\n",
        "flat_dict"
      ],
      "metadata": {
        "id": "GNMWMOpla27L",
        "colab": {
          "base_uri": "https://localhost:8080/"
        },
        "outputId": "889e63d0-5e1c-4796-d860-5ba12d6a511d"
      },
      "execution_count": 4,
      "outputs": [
        {
          "output_type": "execute_result",
          "data": {
            "text/plain": [
              "{1: 'Jan', 2: 'Feb', 3: 'March'}"
            ]
          },
          "metadata": {},
          "execution_count": 4
        }
      ]
    },
    {
      "cell_type": "markdown",
      "source": [
        "#### 5. Write a Python program to insertion at the beginning in OrderedDict?"
      ],
      "metadata": {
        "id": "PCe2U527akDR"
      }
    },
    {
      "cell_type": "code",
      "source": [
        "from collections import OrderedDict\n",
        "\n",
        "initordered_dict = OrderedDict([('a', '1'), ('n', '2')])\n",
        "\n",
        "initordered_dict.update({'m': '3'})\n",
        "initordered_dict.move_to_end('m', last=False)\n",
        "\n",
        "print(\"Resultant Dictionary : \"+str(initordered_dict))"
      ],
      "metadata": {
        "id": "ALTg4Jssa7b2",
        "colab": {
          "base_uri": "https://localhost:8080/"
        },
        "outputId": "0a5cd87c-c61a-4884-c4ef-ebeebaea6608"
      },
      "execution_count": 5,
      "outputs": [
        {
          "output_type": "stream",
          "name": "stdout",
          "text": [
            "Resultant Dictionary : OrderedDict([('m', '3'), ('a', '1'), ('n', '2')])\n"
          ]
        }
      ]
    },
    {
      "cell_type": "markdown",
      "source": [
        "#### 6. Write a Python program to check order of character in string using OrderedDict()?"
      ],
      "metadata": {
        "id": "gxgaYajValUz"
      }
    },
    {
      "cell_type": "code",
      "source": [
        "def check_order(string, pattern):\n",
        "    i, j = 0, 0\n",
        "    for char in string:\n",
        "        if char == pattern[j]:\n",
        "            j += 1\n",
        "        if j == len(pattern):\n",
        "            return True\n",
        "        i += 1\n",
        "    return False\n",
        "\n",
        "string = 'engineers rock'\n",
        "pattern = 'er'\n",
        "print(check_order(string, pattern))"
      ],
      "metadata": {
        "id": "JTvlorUba-fm",
        "colab": {
          "base_uri": "https://localhost:8080/"
        },
        "outputId": "b634e65b-06f8-404a-d814-376faeb96e31"
      },
      "execution_count": 6,
      "outputs": [
        {
          "output_type": "stream",
          "name": "stdout",
          "text": [
            "True\n"
          ]
        }
      ]
    },
    {
      "cell_type": "markdown",
      "source": [
        "#### 7. Write a Python program to sort Python Dictionaries by Key or Value?"
      ],
      "metadata": {
        "id": "EvqzysSqasHH"
      }
    },
    {
      "cell_type": "code",
      "source": [
        "from collections import OrderedDict\n",
        "\n",
        "dict = {'ravi': '10', 'rajnish': '9',\n",
        "\t\t'sanjeev': '15', 'yash': '2', 'suraj': '32'}\n",
        "dict1 = OrderedDict(sorted(dict.items()))\n",
        "print(dict1)"
      ],
      "metadata": {
        "id": "G7fJ6Yeaahrt",
        "colab": {
          "base_uri": "https://localhost:8080/"
        },
        "outputId": "d29b6768-5a0b-413c-b489-6090c948ee95"
      },
      "execution_count": 7,
      "outputs": [
        {
          "output_type": "stream",
          "name": "stdout",
          "text": [
            "OrderedDict([('rajnish', '9'), ('ravi', '10'), ('sanjeev', '15'), ('suraj', '32'), ('yash', '2')])\n"
          ]
        }
      ]
    }
  ]
}