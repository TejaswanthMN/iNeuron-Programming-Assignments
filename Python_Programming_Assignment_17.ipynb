{
  "nbformat": 4,
  "nbformat_minor": 0,
  "metadata": {
    "colab": {
      "provenance": []
    },
    "kernelspec": {
      "name": "python3",
      "display_name": "Python 3"
    },
    "language_info": {
      "name": "python"
    }
  },
  "cells": [
    {
      "cell_type": "markdown",
      "source": [
        "### Python_Programming_Assignment_17"
      ],
      "metadata": {
        "id": "_R7QIvuz7KfV"
      }
    },
    {
      "cell_type": "markdown",
      "source": [
        "#### Question1. Create a function that takes three arguments a, b, c and returns the sum of the\n",
        "numbers that are evenly divided by c from the range a, b inclusive.\n",
        "Examples\n",
        "evenly_divisible(1, 10, 20) ➞ 0\n",
        " No number between 1 and 10 can be evenly divided by 20.\n",
        "evenly_divisible(1, 10, 2) ➞ 30\n",
        " 2 + 4 + 6 + 8 + 10 = 30\n",
        "evenly_divisible(1, 10, 3) ➞ 18\n",
        " 3 + 6 + 9 = 18"
      ],
      "metadata": {
        "id": "tZL6s1mF7MtD"
      }
    },
    {
      "cell_type": "code",
      "execution_count": 1,
      "metadata": {
        "colab": {
          "base_uri": "https://localhost:8080/"
        },
        "id": "9MVekMbh7E1d",
        "outputId": "7daf7a9b-3c3e-4389-ef21-24859f867485"
      },
      "outputs": [
        {
          "output_type": "execute_result",
          "data": {
            "text/plain": [
              "18"
            ]
          },
          "metadata": {},
          "execution_count": 1
        }
      ],
      "source": [
        "def even_div_sum(a,b,c):\n",
        "  s = 0\n",
        "  for i in range(a,b+1):\n",
        "    if i%c == 0:\n",
        "      s = s+i\n",
        "  return s\n",
        "\n",
        "even_div_sum(1,10,3)"
      ]
    },
    {
      "cell_type": "markdown",
      "source": [
        "#### Question2. Create a function that returns True if a given inequality expression is correct and\n",
        "False otherwise.\n",
        "Examples\n",
        "correct_signs(&quot;3 &lt; 7 &lt; 11&quot;) ➞ True\n",
        "correct_signs(&quot;13 &gt; 44 &gt; 33 &gt; 1&quot;) ➞ False\n",
        "correct_signs(&quot;1 &lt; 2 &lt; 6 &lt; 9 &gt; 3&quot;) ➞ True"
      ],
      "metadata": {
        "id": "dJR-tp8E7Nhz"
      }
    },
    {
      "cell_type": "code",
      "source": [
        "def inequality(x):\n",
        "  return eval(x)\n",
        "\n",
        "inequality(\"1 < 2 < 6 < 9 > 3\")"
      ],
      "metadata": {
        "colab": {
          "base_uri": "https://localhost:8080/"
        },
        "id": "oNV5tpy-7N6r",
        "outputId": "639ac89a-ae6d-4a93-b3a2-341e8d601636"
      },
      "execution_count": 2,
      "outputs": [
        {
          "output_type": "execute_result",
          "data": {
            "text/plain": [
              "True"
            ]
          },
          "metadata": {},
          "execution_count": 2
        }
      ]
    },
    {
      "cell_type": "markdown",
      "source": [
        "#### Question3. Create a function that replaces all the vowels in a string with a specified character.\n",
        "Examples\n",
        "replace_vowels(&quot;the aardvark&quot;, &quot;#&quot;) ➞ &quot;th# ##rdv#rk&quot;\n",
        "replace_vowels(&quot;minnie mouse&quot;, &quot;?&quot;) ➞ &quot;m?nn?? m??s?&quot;\n",
        "replace_vowels(&quot;shakespeare&quot;, &quot;*&quot;) ➞ &quot;sh*k*sp**r*&quot;"
      ],
      "metadata": {
        "id": "5xHSRo-Q7OYF"
      }
    },
    {
      "cell_type": "code",
      "source": [
        "def replace_vowels(n, c):\n",
        "  for i in n:\n",
        "    if i in ['a','e','i','o','u']:\n",
        "      n = n.replace(i, c)\n",
        "  return n\n",
        "\n",
        "replace_vowels(\"shakespeare\", \"*\")"
      ],
      "metadata": {
        "colab": {
          "base_uri": "https://localhost:8080/",
          "height": 35
        },
        "id": "wDkpjzhu7OwK",
        "outputId": "4a754faf-e1cf-4cad-f948-852f44e511eb"
      },
      "execution_count": 3,
      "outputs": [
        {
          "output_type": "execute_result",
          "data": {
            "text/plain": [
              "'sh*k*sp**r*'"
            ],
            "application/vnd.google.colaboratory.intrinsic+json": {
              "type": "string"
            }
          },
          "metadata": {},
          "execution_count": 3
        }
      ]
    },
    {
      "cell_type": "markdown",
      "source": [
        "#### Question4. Write a function that calculates the factorial of a number recursively.\n",
        "Examples\n",
        "factorial(5) ➞ 120\n",
        "factorial(3) ➞ 6\n",
        "factorial(1) ➞ 1\n",
        "factorial(0) ➞ 1"
      ],
      "metadata": {
        "id": "Kbi4so5_7Ppk"
      }
    },
    {
      "cell_type": "code",
      "source": [
        "def factorial(n):\n",
        "  if n == 1:\n",
        "    return 1\n",
        "  elif n == 0:\n",
        "    return 1\n",
        "  else:\n",
        "    return n*factorial(n-1)\n",
        "\n",
        "factorial(5)"
      ],
      "metadata": {
        "colab": {
          "base_uri": "https://localhost:8080/"
        },
        "id": "ixARFPCK7QDM",
        "outputId": "6b26bcf8-a5df-49e2-df74-424f76786bf8"
      },
      "execution_count": 4,
      "outputs": [
        {
          "output_type": "execute_result",
          "data": {
            "text/plain": [
              "120"
            ]
          },
          "metadata": {},
          "execution_count": 4
        }
      ]
    },
    {
      "cell_type": "markdown",
      "source": [
        "#### Question 5\n",
        "Hamming distance is the number of characters that differ between two strings.\n",
        "To illustrate:\n",
        "String1: &quot;abcbba&quot;\n",
        "String2: &quot;abcbda&quot;\n",
        "Hamming Distance: 1 - &quot;b&quot; vs. &quot;d&quot; is the only difference.\n",
        "Create a function that computes the hamming distance between two strings.\n",
        "Examples\n",
        "hamming_distance(&quot;abcde&quot;, &quot;bcdef&quot;) ➞ 5\n",
        "hamming_distance(&quot;abcde&quot;, &quot;abcde&quot;) ➞ 0\n",
        "hamming_distance(&quot;strong&quot;, &quot;strung&quot;) ➞ 1"
      ],
      "metadata": {
        "id": "TQG8iydF7QzT"
      }
    },
    {
      "cell_type": "code",
      "source": [
        "def hamming(str1, str2):\n",
        "  if len(str1) == len(str2):\n",
        "    length = len(str1)\n",
        "  else:\n",
        "    length = len(str2) if len(str1)> len(str2) else len(str1)\n",
        "\n",
        "  count = abs(len(str1) - len(str2))\n",
        "  for i in range(length):\n",
        "    if str1[i] != str2[i]:\n",
        "      count = count + 1\n",
        "  return count\n",
        "\n",
        "hamming(\"strong\", \"strung\")"
      ],
      "metadata": {
        "id": "4bBCz9WJ7QgD",
        "colab": {
          "base_uri": "https://localhost:8080/"
        },
        "outputId": "7a2b2fbf-8769-4208-eacb-01e105f58aa3"
      },
      "execution_count": 5,
      "outputs": [
        {
          "output_type": "execute_result",
          "data": {
            "text/plain": [
              "1"
            ]
          },
          "metadata": {},
          "execution_count": 5
        }
      ]
    }
  ]
}