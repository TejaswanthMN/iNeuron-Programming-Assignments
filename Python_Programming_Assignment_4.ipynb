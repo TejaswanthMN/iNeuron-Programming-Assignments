{
 "cells": [
  {
   "cell_type": "markdown",
   "id": "18d617e0-e3bf-4a7d-97ff-6d2783d2b4fc",
   "metadata": {},
   "source": [
    "#### Python_Programming_Assignment_4"
   ]
  },
  {
   "cell_type": "markdown",
   "id": "e737a48d-a61f-45b1-8f5f-2609491aa732",
   "metadata": {},
   "source": [
    "1.\tWrite a Python Program to Find the Factorial of a Number?"
   ]
  },
  {
   "cell_type": "code",
   "execution_count": 1,
   "id": "cdc50d9d-fb98-4194-bd23-aec0a30cd4e6",
   "metadata": {},
   "outputs": [
    {
     "name": "stdout",
     "output_type": "stream",
     "text": [
      "Enter the number: 10\n",
      "3628800 is the factorial of the number 10\n"
     ]
    }
   ],
   "source": [
    "n = int(input(\"Enter the number: \"))\n",
    "fact = 1\n",
    "for i in range(2,n+1):\n",
    "    fact = fact * i\n",
    "print(f\"{fact} is the factorial of the number {n}\")"
   ]
  },
  {
   "cell_type": "markdown",
   "id": "13fea047-4017-4ce8-bb9d-d15f004a0983",
   "metadata": {},
   "source": [
    "2.\tWrite a Python Program to Display the multiplication Table?"
   ]
  },
  {
   "cell_type": "code",
   "execution_count": 2,
   "id": "3848c7f8-0cb5-4200-910f-6925c2b74496",
   "metadata": {},
   "outputs": [
    {
     "name": "stdout",
     "output_type": "stream",
     "text": [
      "Enter the number: 5\n",
      "5 * 1 = 5\n",
      "5 * 2 = 10\n",
      "5 * 3 = 15\n",
      "5 * 4 = 20\n",
      "5 * 5 = 25\n",
      "5 * 6 = 30\n",
      "5 * 7 = 35\n",
      "5 * 8 = 40\n",
      "5 * 9 = 45\n",
      "5 * 10 = 50\n"
     ]
    }
   ],
   "source": [
    "n = int(input(\"Enter the number: \"))\n",
    "for i in range(1,11):\n",
    "    print(f\"{n} * {i} = {n*i}\")"
   ]
  },
  {
   "cell_type": "markdown",
   "id": "cf9d3522-cb57-441e-848d-a379bbd7a050",
   "metadata": {},
   "source": [
    "3.\tWrite a Python Program to Print the Fibonacci sequence?"
   ]
  },
  {
   "cell_type": "code",
   "execution_count": 3,
   "id": "a6a3d88e",
   "metadata": {},
   "outputs": [
    {
     "name": "stdout",
     "output_type": "stream",
     "text": [
      "Enter the first n number of digits you wanted to see for fibonacci series: 10\n",
      "0 1 1 2 3 5 8 13 21 34 "
     ]
    }
   ],
   "source": [
    "n = int(input(\"Enter the first n number of digits you wanted to see for fibonacci series: \"))\n",
    "arr = [0,1]\n",
    "for i in range(n-2):\n",
    "    m = arr[i] + arr[i+1]\n",
    "    arr.append(m)\n",
    "for j in arr:\n",
    "    print(j,end=\" \")"
   ]
  },
  {
   "cell_type": "markdown",
   "id": "d2e14bbd-0f67-4792-8a54-76a48fb1313a",
   "metadata": {},
   "source": [
    "4.\tWrite a Python Program to Check Armstrong Number?"
   ]
  },
  {
   "cell_type": "code",
   "execution_count": 4,
   "id": "bc3bf02f",
   "metadata": {},
   "outputs": [
    {
     "name": "stdout",
     "output_type": "stream",
     "text": [
      "Enter the number: 153\n",
      "The given number 153 is Armstrong Number \n"
     ]
    }
   ],
   "source": [
    "num = int(input(\"Enter the number: \"))\n",
    "n = len(str(num))\n",
    "su = 0\n",
    "for i in list(str(num)):\n",
    "    su+=int(i)**n\n",
    "    \n",
    "if su == num:\n",
    "    print(f\"The given number {num} is Armstrong Number \")\n",
    "else:\n",
    "    print(f\"The given number {num} is not an Armstrong Number \")"
   ]
  },
  {
   "cell_type": "markdown",
   "id": "0f1ad9c3-7e1e-40a4-a80a-0eefbb01d442",
   "metadata": {},
   "source": [
    "5.\tWrite a Python Program to Find Armstrong Number in an Interval?"
   ]
  },
  {
   "cell_type": "code",
   "execution_count": 5,
   "id": "81892598",
   "metadata": {},
   "outputs": [
    {
     "name": "stdout",
     "output_type": "stream",
     "text": [
      "Enter the lower limit: 1\n",
      "Enter the upper limit: 60000\n",
      "The Armstrong Numbers from 1 to 60000 is/are\n",
      "1 2 3 4 5 6 7 8 9 153 370 371 407 1634 8208 9474 54748 "
     ]
    }
   ],
   "source": [
    "def check_armstrong_num(num):\n",
    "    su = 0\n",
    "    n = len(str(num))\n",
    "    for i in list(str(num)):\n",
    "        su += (int(i)**n)\n",
    "    if su == num:\n",
    "        return True\n",
    "    else:\n",
    "        return False\n",
    "    \n",
    "l = int(input(\"Enter the lower limit: \"))\n",
    "u = int(input(\"Enter the upper limit: \"))\n",
    "nums = []\n",
    "for i in range(l,u+1):\n",
    "    if check_armstrong_num(i) == True:\n",
    "        nums.append(i)\n",
    "if len(nums) >= 1:\n",
    "    print(f\"The Armstrong Numbers from {l} to {u} is/are\")\n",
    "    for j in nums:\n",
    "        print(j, end = \" \")\n",
    "else:\n",
    "    print(f\"There are no Armstrong numbers within {l} and {u}\")"
   ]
  },
  {
   "cell_type": "markdown",
   "id": "2802af6f-a93f-4f11-a14f-79e3ee6ec9b1",
   "metadata": {},
   "source": [
    "6.\tWrite a Python Program to Find the Sum of Natural Numbers?"
   ]
  },
  {
   "cell_type": "code",
   "execution_count": 6,
   "id": "32120828-f333-45bf-a124-e9abbf12b8d6",
   "metadata": {},
   "outputs": [
    {
     "name": "stdout",
     "output_type": "stream",
     "text": [
      "Enter the number until which the sum is needed: 100\n",
      "Sum of first 100 Natural numbers is 5050.0\n"
     ]
    }
   ],
   "source": [
    "n = int(input(\"Enter the number until which the sum is needed: \"))\n",
    "s = n*(n+1)/2\n",
    "print(f\"Sum of first {n} Natural numbers is {s}\")"
   ]
  }
 ],
 "metadata": {
  "kernelspec": {
   "display_name": "Python 3 (ipykernel)",
   "language": "python",
   "name": "python3"
  },
  "language_info": {
   "codemirror_mode": {
    "name": "ipython",
    "version": 3
   },
   "file_extension": ".py",
   "mimetype": "text/x-python",
   "name": "python",
   "nbconvert_exporter": "python",
   "pygments_lexer": "ipython3",
   "version": "3.9.7"
  }
 },
 "nbformat": 4,
 "nbformat_minor": 5
}
