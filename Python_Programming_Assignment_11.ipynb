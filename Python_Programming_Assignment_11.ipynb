{
  "nbformat": 4,
  "nbformat_minor": 0,
  "metadata": {
    "colab": {
      "provenance": []
    },
    "kernelspec": {
      "name": "python3",
      "display_name": "Python 3"
    },
    "language_info": {
      "name": "python"
    }
  },
  "cells": [
    {
      "cell_type": "markdown",
      "source": [
        "### Python_Programming_Assignment_11"
      ],
      "metadata": {
        "id": "1Fpwqdc0t5Ov"
      }
    },
    {
      "cell_type": "markdown",
      "source": [
        "#### 1. Write a Python program to find words which are greater than given length k?"
      ],
      "metadata": {
        "id": "CM8yXbPOt9bq"
      }
    },
    {
      "cell_type": "code",
      "execution_count": 1,
      "metadata": {
        "colab": {
          "base_uri": "https://localhost:8080/"
        },
        "id": "LfHZySAttwlZ",
        "outputId": "4bd95fc5-3146-4d54-9516-b441a42605db"
      },
      "outputs": [
        {
          "output_type": "stream",
          "name": "stdout",
          "text": [
            "quick\n",
            "brown\n",
            "jumps\n"
          ]
        }
      ],
      "source": [
        "sentence = \"The quick brown fox jumps over the lazy dog\"\n",
        "sentence_list = sentence.split(\" \")\n",
        "k = 4\n",
        "for i in sentence_list:\n",
        "  if len(i) > k:\n",
        "    print(i)"
      ]
    },
    {
      "cell_type": "markdown",
      "source": [
        "#### 2. Write a Python program for removing i-th character from a string?"
      ],
      "metadata": {
        "id": "q7M2W9ahuBlx"
      }
    },
    {
      "cell_type": "code",
      "source": [
        "string = \"iNeuron\"\n",
        "i = 0\n",
        "string.replace(string[i],\"\")"
      ],
      "metadata": {
        "colab": {
          "base_uri": "https://localhost:8080/",
          "height": 35
        },
        "id": "AiugB-KmuMr5",
        "outputId": "f919590e-f65b-4a44-f73d-c29f7f937274"
      },
      "execution_count": 2,
      "outputs": [
        {
          "output_type": "execute_result",
          "data": {
            "text/plain": [
              "'Neuron'"
            ],
            "application/vnd.google.colaboratory.intrinsic+json": {
              "type": "string"
            }
          },
          "metadata": {},
          "execution_count": 2
        }
      ]
    },
    {
      "cell_type": "markdown",
      "source": [
        "#### 3. Write a Python program to split and join a string?"
      ],
      "metadata": {
        "id": "WWGTsZ3KuBz5"
      }
    },
    {
      "cell_type": "code",
      "source": [
        "sentence_list = sentence.split()\n",
        "sentence_string = \" \".join(sentence_list)\n",
        "sentence_string"
      ],
      "metadata": {
        "colab": {
          "base_uri": "https://localhost:8080/",
          "height": 35
        },
        "id": "KcqMBxlVuP0c",
        "outputId": "870a8950-58d0-42fe-eaa0-21b105e23b4b"
      },
      "execution_count": 3,
      "outputs": [
        {
          "output_type": "execute_result",
          "data": {
            "text/plain": [
              "'The quick brown fox jumps over the lazy dog'"
            ],
            "application/vnd.google.colaboratory.intrinsic+json": {
              "type": "string"
            }
          },
          "metadata": {},
          "execution_count": 3
        }
      ]
    },
    {
      "cell_type": "markdown",
      "source": [
        "#### 4. Write a Python to check if a given string is binary string or not?"
      ],
      "metadata": {
        "id": "rX6q9Ft4uGXQ"
      }
    },
    {
      "cell_type": "code",
      "source": [
        "bin_string = '10101010101010101'\n",
        "bin_string_set = set(list(bin_string))\n",
        "if (len(bin_string_set) == 2) & ('1' in bin_string_set) & ('0' in bin_string_set):\n",
        "  print(f\"Given string {bin_string} is binary\")\n",
        "else:\n",
        "  print(f\"Given string {bin_string} is not binary\")"
      ],
      "metadata": {
        "colab": {
          "base_uri": "https://localhost:8080/"
        },
        "id": "fwHkqKktuUk_",
        "outputId": "69df7f0f-9f22-4422-dfeb-a3cdf51d0258"
      },
      "execution_count": 4,
      "outputs": [
        {
          "output_type": "stream",
          "name": "stdout",
          "text": [
            "Given string 10101010101010101 is binary\n"
          ]
        }
      ]
    },
    {
      "cell_type": "markdown",
      "source": [
        "#### 5. Write a Python program to find uncommon words from two Strings?"
      ],
      "metadata": {
        "id": "v4kqJ_h0uB4v"
      }
    },
    {
      "cell_type": "code",
      "source": [
        "string1 = \"Machine\"\n",
        "string2 = \"Learning\"\n",
        "uncommon_words_list = []\n",
        "for i in string1:\n",
        "  if (i not in string2.lower()) and (i not in string2.upper()):\n",
        "    uncommon_words_list.append(i)\n",
        "for i in string2:\n",
        "  if (i not in string1.lower()) and (i not in string1.upper()):\n",
        "    uncommon_words_list.append(i)\n",
        "\n",
        "uncommon_words_list"
      ],
      "metadata": {
        "colab": {
          "base_uri": "https://localhost:8080/"
        },
        "id": "4X8bL60FuUMX",
        "outputId": "bedfaf12-ed49-42a7-d3af-421ce83b65b4"
      },
      "execution_count": 5,
      "outputs": [
        {
          "output_type": "execute_result",
          "data": {
            "text/plain": [
              "['M', 'c', 'h', 'L', 'r', 'g']"
            ]
          },
          "metadata": {},
          "execution_count": 5
        }
      ]
    },
    {
      "cell_type": "markdown",
      "source": [
        "#### 6. Write a Python to find all duplicate characters in string?\n",
        "\n"
      ],
      "metadata": {
        "id": "hVUgnlNQuB7r"
      }
    },
    {
      "cell_type": "code",
      "source": [
        "string_new = \"Programming_Assignment\"\n",
        "d = {}\n",
        "for i in set(list(string_new.lower())):\n",
        "  d[i] = string_new.count(i)\n",
        "duplicate_list = []\n",
        "for a,b in d.items():\n",
        "  if b > 1:\n",
        "    duplicate_list.append(a)\n",
        "\n",
        "duplicate_list"
      ],
      "metadata": {
        "colab": {
          "base_uri": "https://localhost:8080/"
        },
        "id": "L8dhaIo2ufJW",
        "outputId": "73e77c23-d467-450b-b13b-de1202465268"
      },
      "execution_count": 6,
      "outputs": [
        {
          "output_type": "execute_result",
          "data": {
            "text/plain": [
              "['m', 'g', 'i', 's', 'n', 'r']"
            ]
          },
          "metadata": {},
          "execution_count": 6
        }
      ]
    },
    {
      "cell_type": "markdown",
      "source": [
        "#### 7. Write a Python Program to check if a string contains any special character?"
      ],
      "metadata": {
        "id": "XjxMIX2-uCOk"
      }
    },
    {
      "cell_type": "code",
      "source": [
        "spe_char = '@_!#$%^&*()<>?/\\|}{~:[]'\n",
        "string_spec_char = \"givi)(gc!2)$hj\"\n",
        "flag = 1\n",
        "for i in string_spec_char:\n",
        "  if i in spe_char:\n",
        "    flag = 0\n",
        "    print(f\"Given string {string_spec_char} is having special character\")\n",
        "    break\n",
        "if flag:\n",
        "  print(f\"Given string {string_spec_char} is not having special character\")"
      ],
      "metadata": {
        "colab": {
          "base_uri": "https://localhost:8080/"
        },
        "id": "zpG_n78Kuf_u",
        "outputId": "e0da8b02-a144-47e0-e76f-71a621bb6cda"
      },
      "execution_count": 7,
      "outputs": [
        {
          "output_type": "stream",
          "name": "stdout",
          "text": [
            "Given string givi)(gc!2)$hj is having special character\n"
          ]
        }
      ]
    }
  ]
}