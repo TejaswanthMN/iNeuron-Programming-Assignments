{
 "cells": [
  {
   "cell_type": "markdown",
   "id": "f329cef3-98d4-4e18-a0db-9cc554317fe6",
   "metadata": {},
   "source": [
    "#### Python_Programming_Assignment_2"
   ]
  },
  {
   "cell_type": "markdown",
   "id": "1c1bda1d-c0f7-4700-83ac-23ff3cf129f4",
   "metadata": {},
   "source": [
    "1.\tWrite a Python program to convert kilometers to miles?"
   ]
  },
  {
   "cell_type": "code",
   "execution_count": 1,
   "id": "20442e65-0c16-4289-a154-ecb59fb332a8",
   "metadata": {},
   "outputs": [
    {
     "name": "stdout",
     "output_type": "stream",
     "text": [
      "Enter KM: 100\n",
      "100.0 KM is equal to 62.13999999999999 miles\n"
     ]
    }
   ],
   "source": [
    "k = float(input(\"Enter KM: \"))\n",
    "m = k*0.6214\n",
    "print(f\"{k} KM is equal to {m} miles\")"
   ]
  },
  {
   "cell_type": "markdown",
   "id": "ea977360-9c1e-4649-93fb-d5d94d877028",
   "metadata": {},
   "source": [
    "2.\tWrite a Python program to convert Celsius to Fahrenheit?"
   ]
  },
  {
   "cell_type": "code",
   "execution_count": 2,
   "id": "c4ce4757-20cf-4230-8bd4-00ab46d27542",
   "metadata": {},
   "outputs": [
    {
     "name": "stdout",
     "output_type": "stream",
     "text": [
      "Enter Celsius: 38\n",
      "38.0 Celsius is equal to 100.4 Fharenheit\n"
     ]
    }
   ],
   "source": [
    "C = float(input(\"Enter Celsius: \"))\n",
    "F = (C * 9/5) + 32\n",
    "print(f\"{C} Celsius is equal to {F} Fharenheit\")"
   ]
  },
  {
   "cell_type": "markdown",
   "id": "e5a41556-99b4-46f2-9876-7562ac8824bf",
   "metadata": {},
   "source": [
    "3.\tWrite a Python program to display calendar?"
   ]
  },
  {
   "cell_type": "code",
   "execution_count": 3,
   "id": "e837b682-ae94-423a-8bc0-c903f3783944",
   "metadata": {},
   "outputs": [
    {
     "name": "stdout",
     "output_type": "stream",
     "text": [
      "Do you want to see the calender for whole year or for a month? month\n",
      "Please enter the year you would like to see 4000\n",
      "Please enter the month number you would like to see 1\n",
      "    January 4000\n",
      "Mo Tu We Th Fr Sa Su\n",
      "                1  2\n",
      " 3  4  5  6  7  8  9\n",
      "10 11 12 13 14 15 16\n",
      "17 18 19 20 21 22 23\n",
      "24 25 26 27 28 29 30\n",
      "31\n",
      "\n"
     ]
    }
   ],
   "source": [
    "import calendar\n",
    "ym = input(\"Do you want to see the calender for whole year or for a month? \")\n",
    "if ym.lower() == \"year\":\n",
    "    year = int(input(\"Please enter the year you would like to see \"))\n",
    "    print(calendar.calendar(year))\n",
    "elif ym.lower() == \"month\":\n",
    "    year = int(input(\"Please enter the year you would like to see \"))\n",
    "    month = int(input(\"Please enter the month number you would like to see \"))\n",
    "    print(calendar.month(year, month))\n",
    "else:\n",
    "    print(\"Please enter either 'year' or 'month'\")"
   ]
  },
  {
   "cell_type": "markdown",
   "id": "48010460-16e2-486f-9ac8-ef0ce3a2021c",
   "metadata": {},
   "source": [
    "4.\tWrite a Python program to solve quadratic equation?"
   ]
  },
  {
   "cell_type": "code",
   "execution_count": 4,
   "id": "eafaf09a-e5ce-4152-8b8f-3fc35f269859",
   "metadata": {},
   "outputs": [
    {
     "name": "stdout",
     "output_type": "stream",
     "text": [
      "Enter 'a' from the standard form of the quadratic equation ax2+bx+c=0 1\n",
      "Enter 'b' from the standard form of the quadratic equation ax2+bx+c=0 2\n",
      "Enter 'c' from the standard form of the quadratic equation ax2+bx+c=0 1\n",
      "The roots of theh given equation are -1.0 and -1.0\n"
     ]
    }
   ],
   "source": [
    "a = int(input(\"Enter 'a' from the standard form of the quadratic equation ax2+bx+c=0 \"))\n",
    "b = int(input(\"Enter 'b' from the standard form of the quadratic equation ax2+bx+c=0 \"))\n",
    "c = int(input(\"Enter 'c' from the standard form of the quadratic equation ax2+bx+c=0 \"))\n",
    "d = b*b - (4*a*c)\n",
    "root1 = (-1*b-(d**0.5))/(2*a)\n",
    "root2 = (-1*b+(d**0.5))/(2*a)\n",
    "print(f\"The roots of theh given equation are {root1} and {root2}\")"
   ]
  },
  {
   "cell_type": "markdown",
   "id": "6a2d1c99-ffde-4d77-8d01-8797ed7552a4",
   "metadata": {},
   "source": [
    "5.\tWrite a Python program to swap two variables without temp variable?"
   ]
  },
  {
   "cell_type": "code",
   "execution_count": 5,
   "id": "8493ad6f-5e54-457d-8462-6ac310e22b60",
   "metadata": {},
   "outputs": [
    {
     "name": "stdout",
     "output_type": "stream",
     "text": [
      "Enter the value to be stored in the first variable 200\n",
      "Enter the value to be stored in the second variable 300\n",
      "Before swapping a is 200 b is 300\n",
      "After swapping a is 300 b is 200\n"
     ]
    }
   ],
   "source": [
    "a = input(\"Enter the value to be stored in the first variable \")\n",
    "b = input(\"Enter the value to be stored in the second variable \")\n",
    "print(f\"Before swapping a is {a} b is {b}\")\n",
    "a,b = b,a\n",
    "print(f\"After swapping a is {a} b is {b}\")"
   ]
  }
 ],
 "metadata": {
  "kernelspec": {
   "display_name": "Python 3 (ipykernel)",
   "language": "python",
   "name": "python3"
  },
  "language_info": {
   "codemirror_mode": {
    "name": "ipython",
    "version": 3
   },
   "file_extension": ".py",
   "mimetype": "text/x-python",
   "name": "python",
   "nbconvert_exporter": "python",
   "pygments_lexer": "ipython3",
   "version": "3.9.7"
  }
 },
 "nbformat": 4,
 "nbformat_minor": 5
}
