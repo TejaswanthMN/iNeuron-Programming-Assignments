{
  "nbformat": 4,
  "nbformat_minor": 0,
  "metadata": {
    "colab": {
      "provenance": []
    },
    "kernelspec": {
      "name": "python3",
      "display_name": "Python 3"
    },
    "language_info": {
      "name": "python"
    }
  },
  "cells": [
    {
      "cell_type": "markdown",
      "source": [
        "### Python_Programming_Assignment_9"
      ],
      "metadata": {
        "id": "SWAge5DyGEH3"
      }
    },
    {
      "cell_type": "markdown",
      "source": [
        "#### 1. Write a Python program to check if the given number is a Disarium Number?"
      ],
      "metadata": {
        "id": "4UDwqgfSGIM9"
      }
    },
    {
      "cell_type": "code",
      "execution_count": 1,
      "metadata": {
        "colab": {
          "base_uri": "https://localhost:8080/"
        },
        "id": "H0sFy7fsGA1p",
        "outputId": "0c3280cd-ea93-497a-dd34-7b711ab2e83e"
      },
      "outputs": [
        {
          "output_type": "stream",
          "name": "stdout",
          "text": [
            "The given number 518 is a Disarium Number\n"
          ]
        }
      ],
      "source": [
        "import math\n",
        "n = 518\n",
        "s = 0\n",
        "a = str(n)\n",
        "for i in range(len(a)):\n",
        "  s = s + math.pow(int(a[i]), i+1)\n",
        "\n",
        "if s == n:\n",
        "  print(f\"The given number {n} is a Disarium Number\")\n",
        "else:\n",
        "  print(f\"The given number {n} is not a Disarium Number\")"
      ]
    },
    {
      "cell_type": "markdown",
      "source": [
        "#### 2. Write a Python program to print all disarium numbers between 1 to 100?"
      ],
      "metadata": {
        "id": "K3_BSPeOGLx3"
      }
    },
    {
      "cell_type": "code",
      "source": [
        "def disarium(n):\n",
        "  s = 0\n",
        "  a = str(n)\n",
        "  for i in range(len(a)):\n",
        "    s = s + math.pow(int(a[i]), i+1)\n",
        "  if s == n:\n",
        "    return True\n",
        "  else:\n",
        "    return False\n",
        "\n",
        "disarium_list = []\n",
        "for i in range(1,1001):\n",
        "  if disarium(i):\n",
        "    disarium_list.append(i)\n",
        "\n",
        "print(disarium_list)"
      ],
      "metadata": {
        "colab": {
          "base_uri": "https://localhost:8080/"
        },
        "id": "v23J4t4_GVa5",
        "outputId": "7816fa03-04bc-4b62-ba53-23bbc3bca3b2"
      },
      "execution_count": 2,
      "outputs": [
        {
          "output_type": "stream",
          "name": "stdout",
          "text": [
            "[1, 2, 3, 4, 5, 6, 7, 8, 9, 89, 135, 175, 518, 598]\n"
          ]
        }
      ]
    },
    {
      "cell_type": "markdown",
      "source": [
        "#### 3. Write a Python program to check if the given number is Happy Number?"
      ],
      "metadata": {
        "id": "0hSCvg8yGNmu"
      }
    },
    {
      "cell_type": "code",
      "source": [
        "def HappyNumber(n):\n",
        "  a = str(n)\n",
        "  prev_values = set()\n",
        "  s = 0\n",
        "  while (s != 1):\n",
        "    s = 0\n",
        "    for i in a:\n",
        "      s = s + (int(i)*int(i))\n",
        "    if s not in prev_values:\n",
        "      a = str(s)\n",
        "      prev_values.add(s)\n",
        "    else:\n",
        "      return False\n",
        "  return True\n",
        "\n",
        "\n",
        "n = 15\n",
        "if HappyNumber(n):\n",
        "  print(f\"Given Number {n} is a Happy Number\")\n",
        "else:\n",
        "  print(f\"Given Number {n} is not a Happy Number\")"
      ],
      "metadata": {
        "colab": {
          "base_uri": "https://localhost:8080/"
        },
        "id": "-T0UwSEqGa47",
        "outputId": "8fb83b37-758e-4c62-dda1-d0de174a285d"
      },
      "execution_count": 3,
      "outputs": [
        {
          "output_type": "stream",
          "name": "stdout",
          "text": [
            "Given Number 15 is not a Happy Number\n"
          ]
        }
      ]
    },
    {
      "cell_type": "markdown",
      "source": [
        "#### 4. Write a Python program to print all happy numbers between 1 and 100?"
      ],
      "metadata": {
        "id": "HhXxgbYPGNzm"
      }
    },
    {
      "cell_type": "code",
      "source": [
        "happynumbers = []\n",
        "for i in range(1,101):\n",
        "  if HappyNumber(i):\n",
        "    happynumbers.append(i)\n",
        "\n",
        "print(happynumbers)"
      ],
      "metadata": {
        "colab": {
          "base_uri": "https://localhost:8080/"
        },
        "id": "R9Zokx10GebP",
        "outputId": "4448fc66-260c-40da-c475-b9564a04980f"
      },
      "execution_count": 4,
      "outputs": [
        {
          "output_type": "stream",
          "name": "stdout",
          "text": [
            "[1, 7, 10, 13, 19, 23, 28, 31, 32, 44, 49, 68, 70, 79, 82, 86, 91, 94, 97, 100]\n"
          ]
        }
      ]
    },
    {
      "cell_type": "markdown",
      "source": [
        "#### 5. Write a Python program to determine whether the given number is a Harshad Number?"
      ],
      "metadata": {
        "id": "NH_2NsMtGN9m"
      }
    },
    {
      "cell_type": "code",
      "source": [
        "def harshad(n):\n",
        "  s = str(n)\n",
        "  su = 0\n",
        "  for i in s:\n",
        "    su = su + int(i)\n",
        "  if n%su == 0:\n",
        "    return True\n",
        "  else:\n",
        "    return False\n",
        "\n",
        "n = 18\n",
        "if harshad(n):\n",
        "  print(f\"Given number {n} is a Harshad Number\")\n",
        "else:\n",
        "  print(f\"Given number {n} is not a Harshad Number\")"
      ],
      "metadata": {
        "colab": {
          "base_uri": "https://localhost:8080/"
        },
        "id": "4RPiYRr9Ghoj",
        "outputId": "eea5531f-50a8-4289-a699-2715785c2acd"
      },
      "execution_count": 5,
      "outputs": [
        {
          "output_type": "stream",
          "name": "stdout",
          "text": [
            "Given number 18 is a Harshad Number\n"
          ]
        }
      ]
    },
    {
      "cell_type": "markdown",
      "source": [
        "#### 6. Write a Python program to print all pronic numbers between 1 and 100?"
      ],
      "metadata": {
        "id": "cInJJKuTGOH0"
      }
    },
    {
      "cell_type": "code",
      "source": [
        "harshad_lis = []\n",
        "for i in range(1,101):\n",
        "  if harshad(i):\n",
        "    harshad_lis.append(i)\n",
        "\n",
        "harshad_lis"
      ],
      "metadata": {
        "id": "MkGw6LKLGjtx",
        "colab": {
          "base_uri": "https://localhost:8080/"
        },
        "outputId": "4341a6c5-27a2-422b-c22e-3f7b634f7c4b"
      },
      "execution_count": 6,
      "outputs": [
        {
          "output_type": "execute_result",
          "data": {
            "text/plain": [
              "[1,\n",
              " 2,\n",
              " 3,\n",
              " 4,\n",
              " 5,\n",
              " 6,\n",
              " 7,\n",
              " 8,\n",
              " 9,\n",
              " 10,\n",
              " 12,\n",
              " 18,\n",
              " 20,\n",
              " 21,\n",
              " 24,\n",
              " 27,\n",
              " 30,\n",
              " 36,\n",
              " 40,\n",
              " 42,\n",
              " 45,\n",
              " 48,\n",
              " 50,\n",
              " 54,\n",
              " 60,\n",
              " 63,\n",
              " 70,\n",
              " 72,\n",
              " 80,\n",
              " 81,\n",
              " 84,\n",
              " 90,\n",
              " 100]"
            ]
          },
          "metadata": {},
          "execution_count": 6
        }
      ]
    }
  ]
}