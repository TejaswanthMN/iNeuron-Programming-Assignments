{
  "cells": [
    {
      "cell_type": "markdown",
      "id": "6376a0e5-b014-4b6a-8836-7d52b1eceef3",
      "metadata": {
        "id": "6376a0e5-b014-4b6a-8836-7d52b1eceef3"
      },
      "source": [
        "### Python_Programming_Assignment_8"
      ]
    },
    {
      "cell_type": "markdown",
      "id": "e6578641-5a5f-45f6-894d-850f4ae79c82",
      "metadata": {
        "id": "e6578641-5a5f-45f6-894d-850f4ae79c82"
      },
      "source": [
        "#### 1. Write a Python Program to Add Two Matrices?"
      ]
    },
    {
      "cell_type": "code",
      "execution_count": 1,
      "id": "422bbef4-d5a9-4913-bbcc-ce6520eb7d09",
      "metadata": {
        "colab": {
          "base_uri": "https://localhost:8080/"
        },
        "id": "422bbef4-d5a9-4913-bbcc-ce6520eb7d09",
        "outputId": "bb7695b9-46c5-4ed5-e120-b1177e36c392"
      },
      "outputs": [
        {
          "output_type": "stream",
          "name": "stdout",
          "text": [
            "First matrix is [[6 9 6]\n",
            " [1 1 2]\n",
            " [8 7 3]]\n",
            "Second matrix is [[5 6 3]\n",
            " [5 3 5]\n",
            " [8 8 2]]\n",
            "Matrix Addition is as follows:\n",
            "[[11 15  9]\n",
            " [ 6  4  7]\n",
            " [16 15  5]]\n"
          ]
        }
      ],
      "source": [
        "import numpy as np\n",
        "\n",
        "np.random.seed(1)\n",
        "a = np.random.randint(1,10,(3,3))\n",
        "b = np.random.randint(1,10,(3,3))\n",
        "print(f\"First matrix is {a}\")\n",
        "print(f\"Second matrix is {b}\")\n",
        "print(\"Matrix Addition is as follows:\")\n",
        "print(a+b)"
      ]
    },
    {
      "cell_type": "markdown",
      "id": "8cf2c246-7483-4d45-8a23-0f13a8024ce5",
      "metadata": {
        "id": "8cf2c246-7483-4d45-8a23-0f13a8024ce5"
      },
      "source": [
        "#### 2. Write a Python Program to Multiply Two Matrices?"
      ]
    },
    {
      "cell_type": "code",
      "execution_count": 2,
      "id": "3fd9e66c-5eff-4236-9165-008345ec0d2d",
      "metadata": {
        "colab": {
          "base_uri": "https://localhost:8080/"
        },
        "id": "3fd9e66c-5eff-4236-9165-008345ec0d2d",
        "outputId": "d67c1003-63f2-437f-a5a9-518d2c5bbf25"
      },
      "outputs": [
        {
          "output_type": "stream",
          "name": "stdout",
          "text": [
            "First matrix is [[9 9 7]\n",
            " [3 9 8]\n",
            " [3 2 6]]\n",
            "Second matrix is [[5 5 6]\n",
            " [8 4 7]\n",
            " [5 4 8]]\n",
            "Matrix Multiplication is as follows:\n",
            "[[45 45 42]\n",
            " [24 36 56]\n",
            " [15  8 48]]\n"
          ]
        }
      ],
      "source": [
        "np.random.seed(2)\n",
        "a = np.random.randint(1,10,(3,3))\n",
        "b = np.random.randint(1,10,(3,3))\n",
        "print(f\"First matrix is {a}\")\n",
        "print(f\"Second matrix is {b}\")\n",
        "print(\"Matrix Multiplication is as follows:\")\n",
        "print(a*b)"
      ]
    },
    {
      "cell_type": "markdown",
      "id": "4bdc9872-0451-4523-9a74-b698ebd2bc6d",
      "metadata": {
        "id": "4bdc9872-0451-4523-9a74-b698ebd2bc6d"
      },
      "source": [
        "#### 3. Write a Python Program to Transpose a Matrix?"
      ]
    },
    {
      "cell_type": "code",
      "execution_count": 3,
      "id": "c973ba3b-bfd9-4888-adfd-7aa124de4db9",
      "metadata": {
        "colab": {
          "base_uri": "https://localhost:8080/"
        },
        "id": "c973ba3b-bfd9-4888-adfd-7aa124de4db9",
        "outputId": "7bef05e2-f952-44d4-ae6a-bc83304bc793"
      },
      "outputs": [
        {
          "output_type": "stream",
          "name": "stdout",
          "text": [
            "Before transposig matrix is [[9 4 9]\n",
            " [9 1 6]\n",
            " [4 6 8]]\n",
            "After transposing matrix is [[9 9 4]\n",
            " [4 1 6]\n",
            " [9 6 8]]\n"
          ]
        }
      ],
      "source": [
        "np.random.seed(3)\n",
        "a = np.random.randint(1,10,(3,3))\n",
        "print(f\"Before transposig matrix is {a}\")\n",
        "print(f\"After transposing matrix is {np.transpose(a)}\")"
      ]
    },
    {
      "cell_type": "markdown",
      "id": "4f20ae28-1c74-4820-a2d9-76a3a0ef951e",
      "metadata": {
        "id": "4f20ae28-1c74-4820-a2d9-76a3a0ef951e"
      },
      "source": [
        "#### 4. Write a Python Program to Sort Words in Alphabetic Order?"
      ]
    },
    {
      "cell_type": "code",
      "execution_count": 4,
      "id": "ade941d8-2fba-49dc-89ea-1c928cca9753",
      "metadata": {
        "colab": {
          "base_uri": "https://localhost:8080/"
        },
        "id": "ade941d8-2fba-49dc-89ea-1c928cca9753",
        "outputId": "91233234-8c00-4ebf-b193-cff8e291ae3d"
      },
      "outputs": [
        {
          "output_type": "execute_result",
          "data": {
            "text/plain": [
              "['a', 'b', 'c', 'f', 'g', 't', 'z']"
            ]
          },
          "metadata": {},
          "execution_count": 4
        }
      ],
      "source": [
        "a = ['t', 'g', 'a', 'b', 'f','c', 'z']\n",
        "a.sort()\n",
        "a"
      ]
    },
    {
      "cell_type": "markdown",
      "id": "bd4a467f-4b83-4c99-b306-1d70929e88d2",
      "metadata": {
        "id": "bd4a467f-4b83-4c99-b306-1d70929e88d2"
      },
      "source": [
        "#### 5. Write a Python Program to Remove Punctuation From a String?"
      ]
    },
    {
      "cell_type": "code",
      "execution_count": 5,
      "id": "a881e08d-c6e4-4ea2-86dc-16126987bd22",
      "metadata": {
        "colab": {
          "base_uri": "https://localhost:8080/",
          "height": 35
        },
        "id": "a881e08d-c6e4-4ea2-86dc-16126987bd22",
        "outputId": "a097ffac-3bf8-4251-ae59-c1785130d5be"
      },
      "outputs": [
        {
          "output_type": "execute_result",
          "data": {
            "text/plain": [
              "'gknkkhdmdsosmdjdjn'"
            ],
            "application/vnd.google.colaboratory.intrinsic+json": {
              "type": "string"
            }
          },
          "metadata": {},
          "execution_count": 5
        }
      ],
      "source": [
        "string = \"gkn!kk()[]hdmdsosm<djd@#jn%$^\"\n",
        "punc = '''!()-[]{};:'\"\\,<>./?@#$%^&*_~'''\n",
        "for i in string:\n",
        "  if i in punc:\n",
        "    string = string.replace(i,\"\")\n",
        "\n",
        "string"
      ]
    }
  ],
  "metadata": {
    "kernelspec": {
      "display_name": "Python 3 (ipykernel)",
      "language": "python",
      "name": "python3"
    },
    "language_info": {
      "codemirror_mode": {
        "name": "ipython",
        "version": 3
      },
      "file_extension": ".py",
      "mimetype": "text/x-python",
      "name": "python",
      "nbconvert_exporter": "python",
      "pygments_lexer": "ipython3",
      "version": "3.10.6"
    },
    "colab": {
      "provenance": []
    }
  },
  "nbformat": 4,
  "nbformat_minor": 5
}