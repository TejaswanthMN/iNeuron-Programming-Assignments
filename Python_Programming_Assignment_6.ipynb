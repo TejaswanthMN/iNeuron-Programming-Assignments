{
  "cells": [
    {
      "cell_type": "markdown",
      "id": "06732562-2f97-4d7d-9f92-ae92e2d4e9f5",
      "metadata": {
        "id": "06732562-2f97-4d7d-9f92-ae92e2d4e9f5"
      },
      "source": [
        "### Python_Programming_Assignment_6"
      ]
    },
    {
      "cell_type": "markdown",
      "id": "08ecee64-86d7-4631-b708-6275c1149831",
      "metadata": {
        "id": "08ecee64-86d7-4631-b708-6275c1149831"
      },
      "source": [
        "#### 1. Write a Python Program to Display Fibonacci Sequence Using Recursion?"
      ]
    },
    {
      "cell_type": "code",
      "execution_count": 17,
      "id": "4d185905-2596-46b5-bb02-02c6650eb21a",
      "metadata": {
        "colab": {
          "base_uri": "https://localhost:8080/"
        },
        "id": "4d185905-2596-46b5-bb02-02c6650eb21a",
        "outputId": "0e88757b-86b2-4544-c619-7b1d7aa2427f"
      },
      "outputs": [
        {
          "output_type": "execute_result",
          "data": {
            "text/plain": [
              "34"
            ]
          },
          "metadata": {},
          "execution_count": 17
        }
      ],
      "source": [
        "def fibonacci(n):\n",
        "  if n == 0:\n",
        "    return 0\n",
        "  elif n == 1 or n == 2:\n",
        "    return 1\n",
        "  else:\n",
        "    return fibonacci(n-1) + fibonacci(n-2)\n",
        "\n",
        "\n",
        "fibonacci(9)"
      ]
    },
    {
      "cell_type": "markdown",
      "id": "8ec24c07-959a-43e1-909f-64b73d4a4527",
      "metadata": {
        "id": "8ec24c07-959a-43e1-909f-64b73d4a4527"
      },
      "source": [
        "#### 2. Write a Python Program to Find Factorial of Number Using Recursion?"
      ]
    },
    {
      "cell_type": "code",
      "execution_count": 18,
      "id": "91aaf9ce-d2f3-4ea9-8434-c244266039e4",
      "metadata": {
        "colab": {
          "base_uri": "https://localhost:8080/"
        },
        "id": "91aaf9ce-d2f3-4ea9-8434-c244266039e4",
        "outputId": "76a50482-c59d-4395-8a97-a006e1852bdd"
      },
      "outputs": [
        {
          "output_type": "execute_result",
          "data": {
            "text/plain": [
              "120"
            ]
          },
          "metadata": {},
          "execution_count": 18
        }
      ],
      "source": [
        "def factorial(n):\n",
        "  if n == 1:\n",
        "    return 1\n",
        "  elif n == 0:\n",
        "    return 1\n",
        "  else:\n",
        "    return n*factorial(n-1)\n",
        "\n",
        "factorial(5)"
      ]
    },
    {
      "cell_type": "markdown",
      "id": "440b92dc-048f-40b2-a923-fc44540c62a2",
      "metadata": {
        "id": "440b92dc-048f-40b2-a923-fc44540c62a2"
      },
      "source": [
        "#### 3. Write a Python Program to calculate your Body Mass Index?"
      ]
    },
    {
      "cell_type": "code",
      "execution_count": 19,
      "id": "b85bdc3f-89a6-41bc-9128-00bf73ba36c1",
      "metadata": {
        "colab": {
          "base_uri": "https://localhost:8080/"
        },
        "id": "b85bdc3f-89a6-41bc-9128-00bf73ba36c1",
        "outputId": "10c8f844-36a6-44ca-89ac-f7b6bb0e36c9"
      },
      "outputs": [
        {
          "output_type": "stream",
          "name": "stdout",
          "text": [
            "Enter your Height in meter: 1.7\n",
            "Enter your Weight in kg: 70\n",
            "Your BMI is 24.221453287197235\n",
            "As per your BMI, you are HEALTHY\n"
          ]
        }
      ],
      "source": [
        "height = float(input(\"Enter your Height in meter: \"))\n",
        "weight = float(input(\"Enter your Weight in kg: \"))\n",
        "bmi = (weight)/(height*height)\n",
        "print(f\"Your BMI is {bmi}\")\n",
        "if bmi < 18.5:\n",
        "  print(\"As per your BMI, you are UNDERWEIGHT\")\n",
        "elif bmi >= 18.5 and bmi < 24.9:\n",
        "  print(\"As per your BMI, you are HEALTHY\")\n",
        "if bmi >= 24.9 and bmi < 30:\n",
        "  print(\"As per your BMI, you are OVERWEIGHT\")\n",
        "if bmi >= 30:\n",
        "  print(\"As per your BMI, you are OBESE\")"
      ]
    },
    {
      "cell_type": "markdown",
      "id": "c6054105-a455-4777-93b0-0ef18d70bd9d",
      "metadata": {
        "id": "c6054105-a455-4777-93b0-0ef18d70bd9d"
      },
      "source": [
        "#### 4. Write a Python Program to calculate the natural logarithm of any number?"
      ]
    },
    {
      "cell_type": "code",
      "execution_count": 20,
      "id": "5de82678-f43a-450a-84a0-b800391d50a1",
      "metadata": {
        "colab": {
          "base_uri": "https://localhost:8080/"
        },
        "id": "5de82678-f43a-450a-84a0-b800391d50a1",
        "outputId": "f03f6e8f-b192-4274-8f46-037c784e400d"
      },
      "outputs": [
        {
          "output_type": "stream",
          "name": "stdout",
          "text": [
            "Natural logarithm of 14 is 2.6390573296152584\n"
          ]
        }
      ],
      "source": [
        "from math import log\n",
        "a = 14\n",
        "print(f\"Natural logarithm of {a} is {log(a)}\")"
      ]
    },
    {
      "cell_type": "markdown",
      "id": "1489b8d7-451d-44b5-a96b-a6d2be3d3a4d",
      "metadata": {
        "id": "1489b8d7-451d-44b5-a96b-a6d2be3d3a4d"
      },
      "source": [
        "#### 5. Write a Python Program for cube sum of first n natural numbers?"
      ]
    },
    {
      "cell_type": "code",
      "execution_count": 21,
      "id": "db726026-ea99-4489-8bc5-f522d619fa6a",
      "metadata": {
        "colab": {
          "base_uri": "https://localhost:8080/"
        },
        "id": "db726026-ea99-4489-8bc5-f522d619fa6a",
        "outputId": "eaa67be4-efe6-446f-df93-ec5cd2cc7816"
      },
      "outputs": [
        {
          "output_type": "stream",
          "name": "stdout",
          "text": [
            "Cube sum of 10 natural numbers is 3025.0\n"
          ]
        }
      ],
      "source": [
        "n = 10\n",
        "cube_sum = n*n*(n+1)*(n+1)/4\n",
        "print(f\"Cube sum of {n} natural numbers is {cube_sum}\")"
      ]
    }
  ],
  "metadata": {
    "kernelspec": {
      "display_name": "Python 3 (ipykernel)",
      "language": "python",
      "name": "python3"
    },
    "language_info": {
      "codemirror_mode": {
        "name": "ipython",
        "version": 3
      },
      "file_extension": ".py",
      "mimetype": "text/x-python",
      "name": "python",
      "nbconvert_exporter": "python",
      "pygments_lexer": "ipython3",
      "version": "3.10.6"
    },
    "colab": {
      "provenance": []
    }
  },
  "nbformat": 4,
  "nbformat_minor": 5
}