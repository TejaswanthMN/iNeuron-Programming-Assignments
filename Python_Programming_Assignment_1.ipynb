{
 "cells": [
  {
   "cell_type": "markdown",
   "id": "0faf0d95-dace-4d7d-9c4a-d798b1e9bfdc",
   "metadata": {},
   "source": [
    "#### Python_Programming_Assignment_1"
   ]
  },
  {
   "cell_type": "markdown",
   "id": "924141ee-27ed-41d0-8748-d486c6550431",
   "metadata": {},
   "source": [
    "1.\tWrite a Python program to print \"Hello Python\"?"
   ]
  },
  {
   "cell_type": "code",
   "execution_count": 1,
   "id": "97fe7671-fcb4-4e15-acef-acc93016a4bc",
   "metadata": {},
   "outputs": [
    {
     "name": "stdout",
     "output_type": "stream",
     "text": [
      "Hello Python\n"
     ]
    }
   ],
   "source": [
    "print(\"Hello Python\")"
   ]
  },
  {
   "cell_type": "markdown",
   "id": "ac948fef-6bb6-4f39-b09d-a52366af4f09",
   "metadata": {},
   "source": [
    "2.\tWrite a Python program to do arithmetical operations addition and division.?"
   ]
  },
  {
   "cell_type": "code",
   "execution_count": 2,
   "id": "af4808f9-9404-4058-a1b6-5583d793893a",
   "metadata": {},
   "outputs": [
    {
     "name": "stdout",
     "output_type": "stream",
     "text": [
      "Enter first number 20\n",
      "Enter second number 5\n",
      "Addition of the given two numbers 25\n",
      "Division of the given two numbers 4.0\n"
     ]
    }
   ],
   "source": [
    "a = int(input(\"Enter first number \"))\n",
    "b = int(input(\"Enter second number \"))\n",
    "print(f\"Addition of the given two numbers {a+b}\")\n",
    "print(f\"Division of the given two numbers {a/b}\")"
   ]
  },
  {
   "cell_type": "markdown",
   "id": "fd1280d4-d69c-4639-ad9e-589a448cdbb7",
   "metadata": {},
   "source": [
    "3.\tWrite a Python program to find the area of a triangle?"
   ]
  },
  {
   "cell_type": "code",
   "execution_count": 3,
   "id": "80985ffa-cef9-4775-b2ab-241fabd3e7bc",
   "metadata": {},
   "outputs": [
    {
     "name": "stdout",
     "output_type": "stream",
     "text": [
      "Enter the base of the triangle 20\n",
      "Enter the height of the triangle 10\n",
      "Area of the triangle is 100.0 units square\n"
     ]
    }
   ],
   "source": [
    "b = int(input(\"Enter the base of the triangle \"))\n",
    "h = int(input(\"Enter the height of the triangle \"))\n",
    "print(f\"Area of the triangle is {0.5*b*h} units square\")"
   ]
  },
  {
   "cell_type": "markdown",
   "id": "c4d9216e-e6f0-4c90-b25a-a466abd13f1a",
   "metadata": {},
   "source": [
    "4.\tWrite a Python program to swap two variables?"
   ]
  },
  {
   "cell_type": "code",
   "execution_count": 4,
   "id": "45cffcf6-91b0-4ecf-8280-d5746a68993e",
   "metadata": {},
   "outputs": [
    {
     "name": "stdout",
     "output_type": "stream",
     "text": [
      "Enter the value to be stored in the first variable 200\n",
      "Enter the value to be stored in the second variable 300\n",
      "Before swapping a is 200 b is 300\n",
      "After swapping a is 300 b is 200\n"
     ]
    }
   ],
   "source": [
    "a = input(\"Enter the value to be stored in the first variable \")\n",
    "b = input(\"Enter the value to be stored in the second variable \")\n",
    "print(f\"Before swapping a is {a} b is {b}\")\n",
    "a,b = b,a\n",
    "print(f\"After swapping a is {a} b is {b}\")"
   ]
  },
  {
   "cell_type": "markdown",
   "id": "49d4e1aa-a8d8-48db-9c15-66dfac51a6db",
   "metadata": {},
   "source": [
    "5.\tWrite a Python program to generate a random number?"
   ]
  },
  {
   "cell_type": "code",
   "execution_count": 5,
   "id": "d86313d1-0f31-4dac-9f1e-81d43e665a3f",
   "metadata": {},
   "outputs": [
    {
     "name": "stdout",
     "output_type": "stream",
     "text": [
      "1831010116\n"
     ]
    }
   ],
   "source": [
    "import random\n",
    "print(random.randint(0,2147483647))"
   ]
  }
 ],
 "metadata": {
  "kernelspec": {
   "display_name": "Python 3 (ipykernel)",
   "language": "python",
   "name": "python3"
  },
  "language_info": {
   "codemirror_mode": {
    "name": "ipython",
    "version": 3
   },
   "file_extension": ".py",
   "mimetype": "text/x-python",
   "name": "python",
   "nbconvert_exporter": "python",
   "pygments_lexer": "ipython3",
   "version": "3.9.7"
  }
 },
 "nbformat": 4,
 "nbformat_minor": 5
}
