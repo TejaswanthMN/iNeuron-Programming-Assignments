{
  "nbformat": 4,
  "nbformat_minor": 0,
  "metadata": {
    "colab": {
      "provenance": []
    },
    "kernelspec": {
      "name": "python3",
      "display_name": "Python 3"
    },
    "language_info": {
      "name": "python"
    }
  },
  "cells": [
    {
      "cell_type": "markdown",
      "source": [
        "### Python_Programming_Assignment_10"
      ],
      "metadata": {
        "id": "cbyF-9n0XDMl"
      }
    },
    {
      "cell_type": "markdown",
      "source": [
        "#### 1. Write a Python program to find sum of elements in list?"
      ],
      "metadata": {
        "id": "94ouHdu_XE9W"
      }
    },
    {
      "cell_type": "code",
      "execution_count": 1,
      "metadata": {
        "colab": {
          "base_uri": "https://localhost:8080/"
        },
        "id": "H6XQk8L7W-RI",
        "outputId": "fa0d5bc5-f43e-4df6-8caa-3089887594d2"
      },
      "outputs": [
        {
          "output_type": "stream",
          "name": "stdout",
          "text": [
            "Sum of elements in the list [1, 2, 3, 4, 5, 6] is 21\n"
          ]
        }
      ],
      "source": [
        "l = [1,2,3,4,5,6]\n",
        "print(f'Sum of elements in the list {l} is {sum(l)}')"
      ]
    },
    {
      "cell_type": "markdown",
      "source": [
        "#### 2. Write a Python program to Multiply all numbers in the list?"
      ],
      "metadata": {
        "id": "dCJrNhUZXeCS"
      }
    },
    {
      "cell_type": "code",
      "source": [
        "from functools import reduce\n",
        "l = [1,2,3,4,5,6]\n",
        "print(f\"Product of elements in the list {l} is {reduce((lambda x,y: x*y),l)}\")"
      ],
      "metadata": {
        "colab": {
          "base_uri": "https://localhost:8080/"
        },
        "id": "IksuhsBgXYVX",
        "outputId": "20c56a35-de2f-4565-9f2f-bddaf0db1fd0"
      },
      "execution_count": 2,
      "outputs": [
        {
          "output_type": "stream",
          "name": "stdout",
          "text": [
            "Product of elements in the list [1, 2, 3, 4, 5, 6] is 720\n"
          ]
        }
      ]
    },
    {
      "cell_type": "markdown",
      "source": [
        "#### 3. Write a Python program to find smallest number in a list?"
      ],
      "metadata": {
        "id": "QxzCWF8BYKKO"
      }
    },
    {
      "cell_type": "code",
      "source": [
        "print(f'Smallest number in the list {l} is {min(l)}')"
      ],
      "metadata": {
        "colab": {
          "base_uri": "https://localhost:8080/"
        },
        "id": "3xpCPz8LYBHD",
        "outputId": "a70d556a-d99e-4d60-a3db-56279459c6e7"
      },
      "execution_count": 3,
      "outputs": [
        {
          "output_type": "stream",
          "name": "stdout",
          "text": [
            "Smallest number in the list [1, 2, 3, 4, 5, 6] is 1\n"
          ]
        }
      ]
    },
    {
      "cell_type": "markdown",
      "source": [
        "#### 4. Write a Python program to find largest number in a list?"
      ],
      "metadata": {
        "id": "NkM1c7LxYS7O"
      }
    },
    {
      "cell_type": "code",
      "source": [
        "print(f'Largest number in the list {l} is {max(l)}')"
      ],
      "metadata": {
        "colab": {
          "base_uri": "https://localhost:8080/"
        },
        "id": "aIRdAitBYSGN",
        "outputId": "c8c88b9e-6431-49d7-fd80-df922e0e32aa"
      },
      "execution_count": 4,
      "outputs": [
        {
          "output_type": "stream",
          "name": "stdout",
          "text": [
            "Largest number in the list [1, 2, 3, 4, 5, 6] is 6\n"
          ]
        }
      ]
    },
    {
      "cell_type": "markdown",
      "source": [
        "#### 5. Write a Python program to find second largest number in a list?"
      ],
      "metadata": {
        "id": "2FcG1XKWYZxc"
      }
    },
    {
      "cell_type": "code",
      "source": [
        "print(f'Second largest number in the list {l} is {sorted(l)[1]}')"
      ],
      "metadata": {
        "colab": {
          "base_uri": "https://localhost:8080/"
        },
        "id": "QzR1J4K2YX8F",
        "outputId": "59f3b681-26f8-40a9-de29-379550eb5fdf"
      },
      "execution_count": 5,
      "outputs": [
        {
          "output_type": "stream",
          "name": "stdout",
          "text": [
            "Second largest number in the list [1, 2, 3, 4, 5, 6] is 2\n"
          ]
        }
      ]
    },
    {
      "cell_type": "markdown",
      "source": [
        "#### 6. Write a Python program to find N largest elements from a list?"
      ],
      "metadata": {
        "id": "S_TsdrQlYk4m"
      }
    },
    {
      "cell_type": "code",
      "source": [
        "l = [11,24,23,44,15,6]\n",
        "n = 3\n",
        "print(f\"{n} largest elements from the list {l} is {sorted(l)[-n:][::-1]}\")"
      ],
      "metadata": {
        "colab": {
          "base_uri": "https://localhost:8080/"
        },
        "id": "Sf9fv_jNYgJa",
        "outputId": "faf4f5e1-0a27-4220-e883-6b0812ba10f0"
      },
      "execution_count": 6,
      "outputs": [
        {
          "output_type": "stream",
          "name": "stdout",
          "text": [
            "3 largest elements from the list [11, 24, 23, 44, 15, 6] is [44, 24, 23]\n"
          ]
        }
      ]
    },
    {
      "cell_type": "markdown",
      "source": [
        "#### 7. Write a Python program to print even numbers in a list?"
      ],
      "metadata": {
        "id": "UyUtzJJ9ZoSr"
      }
    },
    {
      "cell_type": "code",
      "source": [
        "for i in l:\n",
        "  if i % 2 == 0:\n",
        "    print(i)"
      ],
      "metadata": {
        "colab": {
          "base_uri": "https://localhost:8080/"
        },
        "id": "cJaemkbcZdQl",
        "outputId": "db5d067b-b45c-40e9-9623-249095ed14b4"
      },
      "execution_count": 7,
      "outputs": [
        {
          "output_type": "stream",
          "name": "stdout",
          "text": [
            "24\n",
            "44\n",
            "6\n"
          ]
        }
      ]
    },
    {
      "cell_type": "markdown",
      "source": [
        "#### 8. Write a Python program to print odd numbers in a List?"
      ],
      "metadata": {
        "id": "8Jn63Iu2idkH"
      }
    },
    {
      "cell_type": "code",
      "source": [
        "for i in l:\n",
        "  if i % 2 != 0:\n",
        "    print(i)"
      ],
      "metadata": {
        "colab": {
          "base_uri": "https://localhost:8080/"
        },
        "id": "Zpup_JOUicHP",
        "outputId": "75a9599e-37d1-47b2-e889-ed405719ba87"
      },
      "execution_count": 8,
      "outputs": [
        {
          "output_type": "stream",
          "name": "stdout",
          "text": [
            "11\n",
            "23\n",
            "15\n"
          ]
        }
      ]
    },
    {
      "cell_type": "markdown",
      "source": [
        "#### 9. Write a Python program to Remove empty List from List?"
      ],
      "metadata": {
        "id": "rfFjfCP2ilVH"
      }
    },
    {
      "cell_type": "code",
      "source": [
        "new_list = [1,4,'g',[],758,\"djcdjkc\",8,99,\"fjk\",[]]\n",
        "while [] in new_list:\n",
        "  new_list.remove([])\n",
        "new_list"
      ],
      "metadata": {
        "colab": {
          "base_uri": "https://localhost:8080/"
        },
        "id": "fXmsktloirYM",
        "outputId": "1ea6d8d2-9cc2-4cc1-8a60-bd00e7670d54"
      },
      "execution_count": 9,
      "outputs": [
        {
          "output_type": "execute_result",
          "data": {
            "text/plain": [
              "[1, 4, 'g', 758, 'djcdjkc', 8, 99, 'fjk']"
            ]
          },
          "metadata": {},
          "execution_count": 9
        }
      ]
    },
    {
      "cell_type": "markdown",
      "source": [
        "#### 10. Write a Python program to Cloning or Copying a list?"
      ],
      "metadata": {
        "id": "JsyVJMHAilHg"
      }
    },
    {
      "cell_type": "code",
      "source": [
        "import copy\n",
        "\n",
        "li1 = [1, 2, [3,5], 4]\n",
        "\n",
        "li3 = copy.deepcopy(li1)\n",
        "print(li3)\n"
      ],
      "metadata": {
        "colab": {
          "base_uri": "https://localhost:8080/"
        },
        "id": "hk2pltJFiuJY",
        "outputId": "11d6a42f-0d86-4375-fe00-e81f7a84702c"
      },
      "execution_count": 10,
      "outputs": [
        {
          "output_type": "stream",
          "name": "stdout",
          "text": [
            "[1, 2, [3, 5], 4]\n"
          ]
        }
      ]
    },
    {
      "cell_type": "markdown",
      "source": [
        "#### 11. Write a Python program to Count occurrences of an element in a list?"
      ],
      "metadata": {
        "id": "4z-ul2GRikz0"
      }
    },
    {
      "cell_type": "code",
      "source": [
        "lst = [8, 6, 8, 10, 8, 20, 10, 8, 8]\n",
        "x = 10\n",
        "lst.count(x)"
      ],
      "metadata": {
        "colab": {
          "base_uri": "https://localhost:8080/"
        },
        "id": "AvZaR6l7iwBI",
        "outputId": "61e9fddf-3d01-4f6f-ace1-8598a1b0465b"
      },
      "execution_count": 11,
      "outputs": [
        {
          "output_type": "execute_result",
          "data": {
            "text/plain": [
              "2"
            ]
          },
          "metadata": {},
          "execution_count": 11
        }
      ]
    }
  ]
}