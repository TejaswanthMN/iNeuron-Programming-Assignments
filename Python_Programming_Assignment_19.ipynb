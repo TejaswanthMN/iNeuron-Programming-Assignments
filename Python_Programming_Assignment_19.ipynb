{
  "nbformat": 4,
  "nbformat_minor": 0,
  "metadata": {
    "colab": {
      "provenance": []
    },
    "kernelspec": {
      "name": "python3",
      "display_name": "Python 3"
    },
    "language_info": {
      "name": "python"
    }
  },
  "cells": [
    {
      "cell_type": "markdown",
      "source": [
        "### Python_Programming_Assignment_19"
      ],
      "metadata": {
        "id": "4kUV_Fss9JdU"
      }
    },
    {
      "cell_type": "markdown",
      "source": [
        "#### Question1\n",
        "Create a function that takes a string and returns a string in which each character is repeated\n",
        "once.\n",
        "Examples\n",
        "double_char(&quot;String&quot;) ➞ &quot;SSttrriinngg&quot;\n",
        "double_char(&quot;Hello World!&quot;) ➞ &quot;HHeelllloo WWoorrlldd!!&quot;\n",
        "double_char(&quot;1234!_ &quot;) ➞ &quot;11223344!!__ &quot;"
      ],
      "metadata": {
        "id": "pmaep5NE8xI-"
      }
    },
    {
      "cell_type": "code",
      "execution_count": 1,
      "metadata": {
        "colab": {
          "base_uri": "https://localhost:8080/",
          "height": 35
        },
        "id": "sahJN2EY8u-V",
        "outputId": "3ee3c7a5-6898-443c-849a-19168c6f2cf5"
      },
      "outputs": [
        {
          "output_type": "execute_result",
          "data": {
            "text/plain": [
              "'11223344!!__  '"
            ],
            "application/vnd.google.colaboratory.intrinsic+json": {
              "type": "string"
            }
          },
          "metadata": {},
          "execution_count": 1
        }
      ],
      "source": [
        "def double_char(s):\n",
        "  ss = \"\"\n",
        "  for i in s:\n",
        "    ss = ss+i+i\n",
        "  return ss\n",
        "\n",
        "double_char(\"1234!_ \")"
      ]
    },
    {
      "cell_type": "markdown",
      "source": [
        "#### Question2\n",
        "Create a function that reverses a boolean value and returns the string &quot;boolean expected&quot;\n",
        "if another variable type is given.\n",
        "Examples\n",
        "reverse(True) ➞ False\n",
        "reverse(False) ➞ True\n",
        "reverse(0) ➞ &quot;boolean expected&quot;\n",
        "reverse(None) ➞ &quot;boolean expected&quot;"
      ],
      "metadata": {
        "id": "WvPvao1W86tz"
      }
    },
    {
      "cell_type": "code",
      "source": [
        "def reverse(value):\n",
        "  if type(value) == bool:\n",
        "    if value:\n",
        "      return False\n",
        "    else:\n",
        "      return True\n",
        "  else:\n",
        "    return \"boolean expected\"\n",
        "\n",
        "reverse(None)"
      ],
      "metadata": {
        "colab": {
          "base_uri": "https://localhost:8080/",
          "height": 35
        },
        "id": "qYA11qjH88cQ",
        "outputId": "b6566fde-c8a6-4561-8237-bba66a2d67dd"
      },
      "execution_count": 2,
      "outputs": [
        {
          "output_type": "execute_result",
          "data": {
            "text/plain": [
              "'boolean expected'"
            ],
            "application/vnd.google.colaboratory.intrinsic+json": {
              "type": "string"
            }
          },
          "metadata": {},
          "execution_count": 2
        }
      ]
    },
    {
      "cell_type": "markdown",
      "source": [
        "#### Question3\n",
        "Create a function that returns the thickness (in meters) of a piece of paper after folding it n\n",
        "number of times. The paper starts off with a thickness of 0.5mm.\n",
        "Examples\n",
        "num_layers(1) ➞ &quot;0.001m&quot;\n",
        " Paper folded once is 1mm (equal to 0.001m)\n",
        "num_layers(4) ➞ &quot;0.008m&quot;\n",
        " Paper folded 4 times is 8mm (equal to 0.008m)\n",
        "num_layers(21) ➞ &quot;1048.576m&quot;\n",
        " Paper folded 21 times is 1048576mm (equal to 1048.576m)"
      ],
      "metadata": {
        "id": "9lkaNBSi886j"
      }
    },
    {
      "cell_type": "code",
      "source": [
        "def num_layers(n):\n",
        "  if n == 0:\n",
        "    return 0\n",
        "  else:\n",
        "    a = 1\n",
        "  for i in range(n-1):\n",
        "    a = a+a\n",
        "\n",
        "  return a/1000\n",
        "\n",
        "num_layers(21)"
      ],
      "metadata": {
        "colab": {
          "base_uri": "https://localhost:8080/"
        },
        "id": "l7vxs9eZ89yC",
        "outputId": "9c2603eb-3da7-4dd8-9e45-5193b3682c6b"
      },
      "execution_count": 3,
      "outputs": [
        {
          "output_type": "execute_result",
          "data": {
            "text/plain": [
              "1048.576"
            ]
          },
          "metadata": {},
          "execution_count": 3
        }
      ]
    },
    {
      "cell_type": "markdown",
      "source": [
        "#### Question4\n",
        "\n",
        "Create a function that takes a single string as argument and returns an ordered list containing\n",
        "the indices of all capital letters in the string.\n",
        "Examples\n",
        "index_of_caps(&quot;eDaBiT&quot;) ➞ [1, 3, 5]\n",
        "index_of_caps(&quot;eQuINoX&quot;) ➞ [1, 3, 4, 6]\n",
        "index_of_caps(&quot;determine&quot;) ➞ []\n",
        "index_of_caps(&quot;STRIKE&quot;) ➞ [0, 1, 2, 3, 4, 5]\n",
        "index_of_caps(&quot;sUn&quot;) ➞ [1]"
      ],
      "metadata": {
        "id": "B9i0YGqN8-LO"
      }
    },
    {
      "cell_type": "code",
      "source": [
        "def index_of_caps(s):\n",
        "  l = []\n",
        "  for i in range(len(s)):\n",
        "    if s[i].isupper():\n",
        "      l.append(i)\n",
        "  return l\n",
        "\n",
        "s = \"sUn\"\n",
        "index_of_caps(s)"
      ],
      "metadata": {
        "id": "MOY7pcNt8_Et",
        "colab": {
          "base_uri": "https://localhost:8080/"
        },
        "outputId": "ffda13c6-35a4-42d4-f303-686f6eb6f0be"
      },
      "execution_count": 4,
      "outputs": [
        {
          "output_type": "execute_result",
          "data": {
            "text/plain": [
              "[1]"
            ]
          },
          "metadata": {},
          "execution_count": 4
        }
      ]
    },
    {
      "cell_type": "markdown",
      "source": [
        "#### Question5\n",
        "Using list comprehensions, create a function that finds all even numbers from 1 to the given\n",
        "number.\n",
        "Examples\n",
        "find_even_nums(8) ➞ [2, 4, 6, 8]\n",
        "find_even_nums(4) ➞ [2, 4]\n",
        "find_even_nums(2) ➞ [2]"
      ],
      "metadata": {
        "id": "4zMcgl3m9A55"
      }
    },
    {
      "cell_type": "code",
      "source": [
        "def find_even_nums(a):\n",
        "  l = []\n",
        "  for i in range(2,a+1):\n",
        "    if i%2 == 0:\n",
        "      l.append(i)\n",
        "  return l\n",
        "\n",
        "find_even_nums(2)"
      ],
      "metadata": {
        "id": "rD_OMv-Y9C0K",
        "colab": {
          "base_uri": "https://localhost:8080/"
        },
        "outputId": "1f2ea0df-a02a-4d6e-b510-4cbd3a61cb81"
      },
      "execution_count": 5,
      "outputs": [
        {
          "output_type": "execute_result",
          "data": {
            "text/plain": [
              "[2]"
            ]
          },
          "metadata": {},
          "execution_count": 5
        }
      ]
    }
  ]
}