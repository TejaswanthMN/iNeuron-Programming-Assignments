{
  "cells": [
    {
      "cell_type": "markdown",
      "id": "49e9f68e-91c3-4265-9d6b-4d9a9ed1ebd7",
      "metadata": {
        "id": "49e9f68e-91c3-4265-9d6b-4d9a9ed1ebd7"
      },
      "source": [
        "### Python_Programming_Assignment_7"
      ]
    },
    {
      "cell_type": "markdown",
      "id": "b8a0734d-47ed-48cd-8a95-bf64c2475672",
      "metadata": {
        "id": "b8a0734d-47ed-48cd-8a95-bf64c2475672"
      },
      "source": [
        "#### 1. Write a Python Program to find sum of array?"
      ]
    },
    {
      "cell_type": "code",
      "execution_count": 1,
      "id": "7640098d-a349-4fed-ac34-126d5e5681a7",
      "metadata": {
        "colab": {
          "base_uri": "https://localhost:8080/"
        },
        "id": "7640098d-a349-4fed-ac34-126d5e5681a7",
        "outputId": "8b9048de-3094-494f-a5bf-278541c88523"
      },
      "outputs": [
        {
          "output_type": "stream",
          "name": "stdout",
          "text": [
            "Sum of the array [1 2 3] is 6\n"
          ]
        }
      ],
      "source": [
        "import numpy as np\n",
        "\n",
        "arr = np.array([1,2,3])\n",
        "print(f\"Sum of the array {arr} is {np.sum(arr)}\")"
      ]
    },
    {
      "cell_type": "markdown",
      "id": "c241a626-a4c7-45b7-b597-3b5f1d4a72b5",
      "metadata": {
        "id": "c241a626-a4c7-45b7-b597-3b5f1d4a72b5"
      },
      "source": [
        "#### 2. Write a Python Program to find largest element in an array?"
      ]
    },
    {
      "cell_type": "code",
      "execution_count": 2,
      "id": "850031bf-52ea-416e-ab33-61499917ef8a",
      "metadata": {
        "colab": {
          "base_uri": "https://localhost:8080/"
        },
        "id": "850031bf-52ea-416e-ab33-61499917ef8a",
        "outputId": "799fbd65-8d66-4246-847a-6e3594c70024"
      },
      "outputs": [
        {
          "output_type": "stream",
          "name": "stdout",
          "text": [
            "Largest element of the array [1 2 3] is 3\n"
          ]
        }
      ],
      "source": [
        "print(f\"Largest element of the array {arr} is {np.max(arr)}\")"
      ]
    },
    {
      "cell_type": "markdown",
      "id": "ced589fe-67e3-416a-94c2-b7f69c4cb154",
      "metadata": {
        "id": "ced589fe-67e3-416a-94c2-b7f69c4cb154"
      },
      "source": [
        "#### 3. Write a Python Program for array rotation?"
      ]
    },
    {
      "cell_type": "code",
      "execution_count": 3,
      "id": "6ca48036-786c-400c-9e07-63f0b34877c5",
      "metadata": {
        "colab": {
          "base_uri": "https://localhost:8080/"
        },
        "id": "6ca48036-786c-400c-9e07-63f0b34877c5",
        "outputId": "cf993f7b-1b09-4ddf-c760-aed4812e20c2"
      },
      "outputs": [
        {
          "output_type": "stream",
          "name": "stdout",
          "text": [
            "Reversed array is [3 2 1]\n"
          ]
        }
      ],
      "source": [
        "arr1 = np.array([])\n",
        "for i in range(len(arr)-1,-1,-1):\n",
        "  arr1 = np.append(arr1,arr[i])\n",
        "\n",
        "type_casting = np.vectorize(int)\n",
        "arr1 = type_casting(arr1)\n",
        "print(f\"Reversed array is {arr1}\")"
      ]
    },
    {
      "cell_type": "markdown",
      "id": "5ce6498b-fa22-44d6-926c-a261e48c8c26",
      "metadata": {
        "id": "5ce6498b-fa22-44d6-926c-a261e48c8c26"
      },
      "source": [
        "#### 4. Write a Python Program to Split the array and add the first part to the end?"
      ]
    },
    {
      "cell_type": "code",
      "execution_count": 4,
      "id": "7dcc1491-5a02-45a0-bdb9-21fdca9f6c58",
      "metadata": {
        "colab": {
          "base_uri": "https://localhost:8080/"
        },
        "id": "7dcc1491-5a02-45a0-bdb9-21fdca9f6c58",
        "outputId": "a58779b6-6ce0-4ca6-cf4f-003d2009a9d3"
      },
      "outputs": [
        {
          "output_type": "execute_result",
          "data": {
            "text/plain": [
              "[3, 4, 5, 1, 2]"
            ]
          },
          "metadata": {},
          "execution_count": 4
        }
      ],
      "source": [
        "arr1 = [1,2,3,4,5]\n",
        "mid = int(len(arr1)/2)\n",
        "x = arr1[mid:]\n",
        "y = arr1[:mid]\n",
        "x.extend(y)\n",
        "x"
      ]
    },
    {
      "cell_type": "markdown",
      "id": "0e74028e-9371-46eb-9586-7bd05a6debee",
      "metadata": {
        "id": "0e74028e-9371-46eb-9586-7bd05a6debee"
      },
      "source": [
        "#### 5. Write a Python Program to check if given array is Monotonic?"
      ]
    },
    {
      "cell_type": "code",
      "execution_count": 5,
      "id": "fcad782d-4d96-40ef-8967-3386017ecb1e",
      "metadata": {
        "colab": {
          "base_uri": "https://localhost:8080/"
        },
        "id": "fcad782d-4d96-40ef-8967-3386017ecb1e",
        "outputId": "97f6e8c5-818b-4114-f716-87bc776fae77"
      },
      "outputs": [
        {
          "output_type": "stream",
          "name": "stdout",
          "text": [
            "Given array [1, 2, 3, 4, 5, 6] is monotonic\n"
          ]
        }
      ],
      "source": [
        "arr2 = [1,2,3,4,5,6]\n",
        "a = []\n",
        "a.extend(arr2)\n",
        "a.sort()\n",
        "b = []\n",
        "b.extend(arr2)\n",
        "b.sort(reverse = True)\n",
        "if a == arr2 or b == arr2:\n",
        "  print(f\"Given array {arr2} is monotonic\")\n",
        "else:\n",
        "  print(f\"Given array {arr2} is not monotonic\")"
      ]
    }
  ],
  "metadata": {
    "kernelspec": {
      "display_name": "Python 3 (ipykernel)",
      "language": "python",
      "name": "python3"
    },
    "language_info": {
      "codemirror_mode": {
        "name": "ipython",
        "version": 3
      },
      "file_extension": ".py",
      "mimetype": "text/x-python",
      "name": "python",
      "nbconvert_exporter": "python",
      "pygments_lexer": "ipython3",
      "version": "3.10.6"
    },
    "colab": {
      "provenance": []
    }
  },
  "nbformat": 4,
  "nbformat_minor": 5
}