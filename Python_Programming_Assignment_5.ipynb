{
  "cells": [
    {
      "cell_type": "markdown",
      "id": "4226ca31-10fb-489e-8985-14fb131fbe33",
      "metadata": {
        "id": "4226ca31-10fb-489e-8985-14fb131fbe33"
      },
      "source": [
        "### Python_Programming_Assignment_5"
      ]
    },
    {
      "cell_type": "markdown",
      "id": "c175c3a4-c323-47a9-9cc2-258c02954588",
      "metadata": {
        "id": "c175c3a4-c323-47a9-9cc2-258c02954588"
      },
      "source": [
        "#### 1. Write a Python Program to Find LCM?"
      ]
    },
    {
      "cell_type": "code",
      "execution_count": 1,
      "id": "ebd31ee6-8db5-4ea8-8014-3ef0e2f3ccf7",
      "metadata": {
        "colab": {
          "base_uri": "https://localhost:8080/"
        },
        "id": "ebd31ee6-8db5-4ea8-8014-3ef0e2f3ccf7",
        "outputId": "fcfb22d1-4c4f-4e28-e4b0-7614d67d18bb"
      },
      "outputs": [
        {
          "output_type": "execute_result",
          "data": {
            "text/plain": [
              "60"
            ]
          },
          "metadata": {},
          "execution_count": 1
        }
      ],
      "source": [
        "def lcm(a,b):\n",
        "    g = max(a,b)\n",
        "    s = min(a,b)\n",
        "    for i in range(g, (a*b)+1, g):\n",
        "        if i%s == 0:\n",
        "            return i\n",
        "\n",
        "lcm(12,30)"
      ]
    },
    {
      "cell_type": "markdown",
      "id": "b352bf83-bb49-4029-ba90-30d52573d790",
      "metadata": {
        "id": "b352bf83-bb49-4029-ba90-30d52573d790"
      },
      "source": [
        "#### 2. Write a Python Program to Find HCF?"
      ]
    },
    {
      "cell_type": "code",
      "execution_count": 2,
      "id": "767a3d49-f4f2-483a-b2f8-7ffec6556d4a",
      "metadata": {
        "colab": {
          "base_uri": "https://localhost:8080/"
        },
        "id": "767a3d49-f4f2-483a-b2f8-7ffec6556d4a",
        "outputId": "6de6a8ac-e7c4-4086-cff2-40f9bea6e343"
      },
      "outputs": [
        {
          "output_type": "execute_result",
          "data": {
            "text/plain": [
              "15"
            ]
          },
          "metadata": {},
          "execution_count": 2
        }
      ],
      "source": [
        "def hcf(a,b):\n",
        "    for i in range((min(a,b)+1),2,-1):\n",
        "        if a%i == 0 and b%i == 0:\n",
        "            return i\n",
        "\n",
        "hcf(30,75)"
      ]
    },
    {
      "cell_type": "markdown",
      "id": "f57df67c-9014-407a-8c3e-c03659931050",
      "metadata": {
        "id": "f57df67c-9014-407a-8c3e-c03659931050"
      },
      "source": [
        "#### 3. Write a Python Program to Convert Decimal to Binary, Octal and Hexadecimal?"
      ]
    },
    {
      "cell_type": "code",
      "execution_count": 3,
      "id": "37ad305d-246b-4033-b556-9de06db8fc74",
      "metadata": {
        "colab": {
          "base_uri": "https://localhost:8080/"
        },
        "id": "37ad305d-246b-4033-b556-9de06db8fc74",
        "outputId": "d26aa2d2-4c8b-4433-b572-bef6139b314d"
      },
      "outputs": [
        {
          "output_type": "stream",
          "name": "stdout",
          "text": [
            "binary of 5 is 0b101\n",
            "octal of 5 is 0o5\n",
            "hexadecimal of 5 is 0x5\n"
          ]
        }
      ],
      "source": [
        "a = 5\n",
        "print(f\"binary of 5 is {bin(a)}\")\n",
        "print(f\"octal of 5 is {oct(a)}\")\n",
        "print(f\"hexadecimal of 5 is {hex(a)}\")"
      ]
    },
    {
      "cell_type": "markdown",
      "id": "41564edf-0ece-42e3-ad64-b8f791621211",
      "metadata": {
        "id": "41564edf-0ece-42e3-ad64-b8f791621211"
      },
      "source": [
        "#### 4. Write a Python Program To Find ASCII value of a character?"
      ]
    },
    {
      "cell_type": "code",
      "execution_count": 4,
      "id": "285d485e-acf9-42a7-bdc7-a58ee39a9e3d",
      "metadata": {
        "colab": {
          "base_uri": "https://localhost:8080/"
        },
        "id": "285d485e-acf9-42a7-bdc7-a58ee39a9e3d",
        "outputId": "e3d0f431-038d-4476-940d-183fbea2b141"
      },
      "outputs": [
        {
          "output_type": "stream",
          "name": "stdout",
          "text": [
            "ASCII value for the character a is 97\n"
          ]
        }
      ],
      "source": [
        "character = 'a'\n",
        "print(f\"ASCII value for the character {character} is {ord(character)}\")"
      ]
    },
    {
      "cell_type": "markdown",
      "id": "d502547f-1619-4677-8680-1e179fc293ba",
      "metadata": {
        "id": "d502547f-1619-4677-8680-1e179fc293ba"
      },
      "source": [
        "#### 5. Write a Python Program to Make a Simple Calculator with 4 basic mathematical operations?"
      ]
    },
    {
      "cell_type": "code",
      "execution_count": 5,
      "id": "0d3b352d-ff8b-4b54-9b51-1fa4a1d6f267",
      "metadata": {
        "colab": {
          "base_uri": "https://localhost:8080/"
        },
        "id": "0d3b352d-ff8b-4b54-9b51-1fa4a1d6f267",
        "outputId": "3f1fe7fa-1ef7-4962-8e1b-46e32d878eb0"
      },
      "outputs": [
        {
          "output_type": "stream",
          "name": "stdout",
          "text": [
            "Please select operation -\n",
            "1. Add\n",
            "2. Subtract\n",
            "3. Multiply\n",
            "4. Divide\n",
            "\n",
            "Select operations form 1, 2, 3, 4 :1\n",
            "Enter first number: 500\n",
            "Enter second number: 1000\n",
            "500 + 1000 = 1500\n"
          ]
        }
      ],
      "source": [
        "def add(num1, num2):\n",
        "    return num1 + num2\n",
        "\n",
        "def subtract(num1, num2):\n",
        "    return num1 - num2\n",
        "\n",
        "def multiply(num1, num2):\n",
        "    return num1 * num2\n",
        "\n",
        "def divide(num1, num2):\n",
        "    return num1 / num2\n",
        "\n",
        "print(\"Please select operation -\\n\" \\\n",
        "        \"1. Add\\n\" \\\n",
        "        \"2. Subtract\\n\" \\\n",
        "        \"3. Multiply\\n\" \\\n",
        "        \"4. Divide\\n\")\n",
        "\n",
        "\n",
        "select = int(input(\"Select operations form 1, 2, 3, 4 :\"))\n",
        "\n",
        "number_1 = int(input(\"Enter first number: \"))\n",
        "number_2 = int(input(\"Enter second number: \"))\n",
        "\n",
        "if select == 1:\n",
        "    print(number_1, \"+\", number_2, \"=\",\n",
        "                    add(number_1, number_2))\n",
        "\n",
        "elif select == 2:\n",
        "    print(number_1, \"-\", number_2, \"=\",\n",
        "                    subtract(number_1, number_2))\n",
        "\n",
        "elif select == 3:\n",
        "    print(number_1, \"*\", number_2, \"=\",\n",
        "                    multiply(number_1, number_2))\n",
        "\n",
        "elif select == 4:\n",
        "    print(number_1, \"/\", number_2, \"=\",\n",
        "                    divide(number_1, number_2))\n",
        "else:\n",
        "    print(\"Invalid input\")"
      ]
    }
  ],
  "metadata": {
    "kernelspec": {
      "display_name": "Python 3 (ipykernel)",
      "language": "python",
      "name": "python3"
    },
    "language_info": {
      "codemirror_mode": {
        "name": "ipython",
        "version": 3
      },
      "file_extension": ".py",
      "mimetype": "text/x-python",
      "name": "python",
      "nbconvert_exporter": "python",
      "pygments_lexer": "ipython3",
      "version": "3.10.6"
    },
    "colab": {
      "provenance": []
    }
  },
  "nbformat": 4,
  "nbformat_minor": 5
}