{
  "nbformat": 4,
  "nbformat_minor": 0,
  "metadata": {
    "colab": {
      "provenance": []
    },
    "kernelspec": {
      "name": "python3",
      "display_name": "Python 3"
    },
    "language_info": {
      "name": "python"
    }
  },
  "cells": [
    {
      "cell_type": "markdown",
      "source": [
        "### Python_Programming_Assignment_20"
      ],
      "metadata": {
        "id": "SRFxJjAr9xsG"
      }
    },
    {
      "cell_type": "markdown",
      "source": [
        "#### Question1\n",
        "Create a function that takes a list of strings and integers, and filters out the list so that it\n",
        "returns a list of integers only.\n",
        "Examples\n",
        "filter_list([1, 2, 3, &quot;a&quot;, &quot;b&quot;, 4]) ➞ [1, 2, 3, 4]\n",
        "filter_list([&quot;A&quot;, 0, &quot;Edabit&quot;, 1729, &quot;Python&quot;, &quot;1729&quot;]) ➞ [0, 1729]\n",
        "filter_list([&quot;Nothing&quot;, &quot;here&quot;]) ➞ []"
      ],
      "metadata": {
        "id": "ATeEsp4l90nj"
      }
    },
    {
      "cell_type": "code",
      "execution_count": 1,
      "metadata": {
        "id": "oxP-4KjC9upQ",
        "colab": {
          "base_uri": "https://localhost:8080/"
        },
        "outputId": "e56235ed-e3b4-4cfd-c175-59323cffee4f"
      },
      "outputs": [
        {
          "output_type": "execute_result",
          "data": {
            "text/plain": [
              "[]"
            ]
          },
          "metadata": {},
          "execution_count": 1
        }
      ],
      "source": [
        "def filter_list(l):\n",
        "  li = []\n",
        "  for i in l:\n",
        "    if type(i) == int:\n",
        "      li.append(i)\n",
        "\n",
        "  return li\n",
        "\n",
        "filter_list([\"Nothing\", \"here\"])"
      ]
    },
    {
      "cell_type": "markdown",
      "source": [
        "#### Question2\n",
        "Given a list of numbers, create a function which returns the list but with each element&#39;s\n",
        "index in the list added to itself. This means you add 0 to the number at index 0, add 1 to the\n",
        "number at index 1, etc...\n",
        "Examples\n",
        "add_indexes([0, 0, 0, 0, 0]) ➞ [0, 1, 2, 3, 4]\n",
        "add_indexes([1, 2, 3, 4, 5]) ➞ [1, 3, 5, 7, 9]\n",
        "add_indexes([5, 4, 3, 2, 1]) ➞ [5, 5, 5, 5, 5]"
      ],
      "metadata": {
        "id": "U1JZPQPb-Jma"
      }
    },
    {
      "cell_type": "code",
      "source": [
        "def add_indexes(l):\n",
        "  li = []\n",
        "  for i in range(len(l)):\n",
        "      li.append(i+l[i])\n",
        "\n",
        "  return li\n",
        "\n",
        "add_indexes([5, 4, 3, 2, 1])"
      ],
      "metadata": {
        "id": "RhsNfHYN-PAm",
        "colab": {
          "base_uri": "https://localhost:8080/"
        },
        "outputId": "42537842-3a4b-4248-8b69-bef48b81bd1a"
      },
      "execution_count": 2,
      "outputs": [
        {
          "output_type": "execute_result",
          "data": {
            "text/plain": [
              "[5, 5, 5, 5, 5]"
            ]
          },
          "metadata": {},
          "execution_count": 2
        }
      ]
    },
    {
      "cell_type": "markdown",
      "source": [
        "#### Question3\n",
        "Create a function that takes the height and radius of a cone as arguments and returns the\n",
        "volume of the cone rounded to the nearest hundredth. See the resources tab for the formula.\n",
        "\n",
        "Examples\n",
        "cone_volume(3, 2) ➞ 12.57\n",
        "\n",
        "cone_volume(15, 6) ➞ 565.49\n",
        "cone_volume(18, 0) ➞ 0"
      ],
      "metadata": {
        "id": "nPQweSxI-Pgk"
      }
    },
    {
      "cell_type": "code",
      "source": [
        "def volume_of_cone(h,r):\n",
        "  v = 3.141592653589793 * h * r * r/3\n",
        "  return round(v, 2)\n",
        "\n",
        "volume_of_cone(18,0)"
      ],
      "metadata": {
        "id": "8AFdvql_-RHZ",
        "colab": {
          "base_uri": "https://localhost:8080/"
        },
        "outputId": "5d095d1d-9e2e-4da8-96af-27efc7cb312d"
      },
      "execution_count": 3,
      "outputs": [
        {
          "output_type": "execute_result",
          "data": {
            "text/plain": [
              "0.0"
            ]
          },
          "metadata": {},
          "execution_count": 3
        }
      ]
    },
    {
      "cell_type": "markdown",
      "source": [
        "#### Question4\n",
        "This Triangular Number Sequence is generated from a pattern of dots that form a triangle.\n",
        "The first 5 numbers of the sequence, or dots, are:\n",
        "1, 3, 6, 10, 15\n",
        "This means that the first triangle has just one dot, the second one has three dots, the third one\n",
        "has 6 dots and so on.\n",
        "Write a function that gives the number of dots with its corresponding triangle number of the\n",
        "sequence.\n",
        "Examples\n",
        "triangle(1) ➞ 1\n",
        "triangle(6) ➞ 21\n",
        "triangle(215) ➞ 23220"
      ],
      "metadata": {
        "id": "nccQ2i7K-Rab"
      }
    },
    {
      "cell_type": "code",
      "source": [
        "def triangle(n):\n",
        "  s = 0\n",
        "  for i in range(1,n+1):\n",
        "    s = s+i\n",
        "  return s\n",
        "\n",
        "triangle(215)"
      ],
      "metadata": {
        "id": "cUpo24VW-TxG",
        "colab": {
          "base_uri": "https://localhost:8080/"
        },
        "outputId": "406958cb-0272-428b-c4c7-13a7a6aa755b"
      },
      "execution_count": 4,
      "outputs": [
        {
          "output_type": "execute_result",
          "data": {
            "text/plain": [
              "23220"
            ]
          },
          "metadata": {},
          "execution_count": 4
        }
      ]
    },
    {
      "cell_type": "markdown",
      "source": [
        "#### Question5\n",
        "Create a function that takes a list of numbers between 1 and 10 (excluding one number) and\n",
        "returns the missing number.\n",
        "Examples\n",
        "missing_num([1, 2, 3, 4, 6, 7, 8, 9, 10]) ➞ 5\n",
        "missing_num([7, 2, 3, 6, 5, 9, 1, 4, 8]) ➞ 10\n",
        "missing_num([10, 5, 1, 2, 4, 6, 8, 3, 9]) ➞ 7"
      ],
      "metadata": {
        "id": "qlMTSEdR-USS"
      }
    },
    {
      "cell_type": "code",
      "source": [
        "def missing_num(l):\n",
        "  li = [1,2,3,4,5,6,7,8,9,10]\n",
        "  for i in li:\n",
        "    if i not in l:\n",
        "      return i\n",
        "\n",
        "missing_num([10, 5, 1, 2, 4, 6, 8, 3, 9])"
      ],
      "metadata": {
        "id": "MnQzGK4K-VKh",
        "colab": {
          "base_uri": "https://localhost:8080/"
        },
        "outputId": "5da259b4-7783-4ab0-db6d-2e7e9726e7ad"
      },
      "execution_count": 5,
      "outputs": [
        {
          "output_type": "execute_result",
          "data": {
            "text/plain": [
              "7"
            ]
          },
          "metadata": {},
          "execution_count": 5
        }
      ]
    }
  ]
}